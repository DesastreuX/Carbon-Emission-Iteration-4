{
 "cells": [
  {
   "cell_type": "code",
   "execution_count": 1,
   "id": "2231597d96a92de",
   "metadata": {
    "ExecuteTime": {
     "end_time": "2024-05-22T05:41:22.650289Z",
     "start_time": "2024-05-22T05:41:21.371159Z"
    }
   },
   "outputs": [],
   "source": [
    "import ast\n",
    "from functools import reduce\n",
    "\n",
    "import findspark\n",
    "from common.const import DATASET, FILEPATH\n",
    "from common.utils import (change_case, describe_dataframe_details,\n",
    "                          detect_continuous_variables, rename_columns)\n",
    "from common.z_score import abs_z_score\n",
    "from pyspark.sql import DataFrame, SparkSession\n",
    "from pyspark.sql.functions import (array_contains, col, explode, greatest,\n",
    "                                   monotonically_increasing_id, size, udf)\n",
    "from pyspark.sql.types import ArrayType, StringType"
   ]
  },
  {
   "cell_type": "code",
   "execution_count": 2,
   "id": "initial_id",
   "metadata": {
    "ExecuteTime": {
     "end_time": "2024-05-22T05:41:28.588087Z",
     "start_time": "2024-05-22T05:41:22.652580Z"
    },
    "collapsed": true
   },
   "outputs": [
    {
     "name": "stderr",
     "output_type": "stream",
     "text": [
      "WARNING: An illegal reflective access operation has occurred\n",
      "WARNING: Illegal reflective access by org.apache.spark.unsafe.Platform (file:/home/ubuntu/spark-3.2.1-bin-hadoop2.7/jars/spark-unsafe_2.12-3.2.1.jar) to constructor java.nio.DirectByteBuffer(long,int)\n",
      "WARNING: Please consider reporting this to the maintainers of org.apache.spark.unsafe.Platform\n",
      "WARNING: Use --illegal-access=warn to enable warnings of further illegal reflective access operations\n",
      "WARNING: All illegal access operations will be denied in a future release\n",
      "Using Spark's default log4j profile: org/apache/spark/log4j-defaults.properties\n",
      "Setting default log level to \"WARN\".\n",
      "To adjust logging level use sc.setLogLevel(newLevel). For SparkR, use setLogLevel(newLevel).\n",
      "24/05/22 05:41:25 WARN NativeCodeLoader: Unable to load native-hadoop library for your platform... using builtin-java classes where applicable\n",
      "24/05/22 05:41:26 WARN Utils: Service 'SparkUI' could not bind on port 4040. Attempting port 4041.\n"
     ]
    }
   ],
   "source": [
    "findspark.init(\"/home/ubuntu/spark-3.2.1-bin-hadoop2.7\")\n",
    "spark = SparkSession.builder.appName(\"basics\").getOrCreate()"
   ]
  },
  {
   "cell_type": "code",
   "execution_count": 3,
   "id": "adb508c86deae8c6",
   "metadata": {
    "ExecuteTime": {
     "end_time": "2024-05-22T05:41:28.596750Z",
     "start_time": "2024-05-22T05:41:28.589924Z"
    }
   },
   "outputs": [],
   "source": [
    "spark.conf.set(\"spark.sql.repl.eagerEval.enabled\", True)"
   ]
  },
  {
   "cell_type": "code",
   "execution_count": 4,
   "id": "8e146a7a9498e740",
   "metadata": {
    "ExecuteTime": {
     "end_time": "2024-05-22T05:41:37.979415Z",
     "start_time": "2024-05-22T05:41:28.600505Z"
    }
   },
   "outputs": [
    {
     "name": "stderr",
     "output_type": "stream",
     "text": [
      "                                                                                \r"
     ]
    },
    {
     "name": "stdout",
     "output_type": "stream",
     "text": [
      "Type: <class 'pyspark.sql.dataframe.DataFrame'> | Shape: (10200, 2) | Columns: ['ID', 'CarbonEmission']\n",
      "Type: <class 'pyspark.sql.dataframe.DataFrame'> | Shape: (10200, 3) | Columns: ['ID', 'Body Type', 'Sex']\n",
      "Type: <class 'pyspark.sql.dataframe.DataFrame'> | Shape: (10200, 12) | Columns: ['ID', 'Diet', 'How Often Shower', 'Heating Energy Source', 'Social Activity', 'Monthly Grocery Bill', 'How Long TV PC Daily Hour', 'How Many New Clothes Monthly', 'How Long Internet Daily Hour', 'Energy efficiency', 'Recycling', 'Cooking_With']\n",
      "Type: <class 'pyspark.sql.dataframe.DataFrame'> | Shape: (10200, 5) | Columns: ['ID', 'Transport', 'Vehicle Type', 'Frequency of Traveling by Air', 'Vehicle Monthly Distance Km']\n",
      "Type: <class 'pyspark.sql.dataframe.DataFrame'> | Shape: (10200, 3) | Columns: ['ID', 'Waste Bag Size', 'Waste Bag Weekly Count']\n"
     ]
    }
   ],
   "source": [
    "# 3.4\n",
    "filepath_list = [\n",
    "    FILEPATH.CARBON_EMISSION_AMOUNT,\n",
    "    FILEPATH.CARBON_EMISSION_HEALTH,\n",
    "    FILEPATH.CARBON_EMISSION_LIFESTYLE,\n",
    "    FILEPATH.CARBON_EMISSION_TRAVEL,\n",
    "    FILEPATH.CARBON_EMISSION_WASTE,\n",
    "]\n",
    "df_list = [\n",
    "    spark.read.csv(filepath, header=True, inferSchema=True)\n",
    "    for filepath in filepath_list\n",
    "]\n",
    "for df in df_list:\n",
    "    print(\n",
    "        f\"Type: {type(df)} | Shape: ({df.count()}, {len(df.columns)}) | Columns: {df.columns}\"\n",
    "    )"
   ]
  },
  {
   "cell_type": "code",
   "execution_count": 5,
   "id": "ad534d1892312434",
   "metadata": {
    "ExecuteTime": {
     "end_time": "2024-05-22T05:41:41.947835Z",
     "start_time": "2024-05-22T05:41:37.980874Z"
    }
   },
   "outputs": [
    {
     "name": "stderr",
     "output_type": "stream",
     "text": [
      "[Stage 27:>                 (0 + 1) / 1][Stage 29:>                 (0 + 1) / 1]\r"
     ]
    },
    {
     "name": "stdout",
     "output_type": "stream",
     "text": [
      "+---+--------------+-----------+------+-----------+----------------+---------------------+---------------+--------------------+-------------------------+----------------------------+----------------------------+-----------------+--------------------+--------------------+------------+------------+-----------------------------+---------------------------+--------------+----------------------+\n",
      "| ID|CarbonEmission|  Body Type|   Sex|       Diet|How Often Shower|Heating Energy Source|Social Activity|Monthly Grocery Bill|How Long TV PC Daily Hour|How Many New Clothes Monthly|How Long Internet Daily Hour|Energy efficiency|           Recycling|        Cooking_With|   Transport|Vehicle Type|Frequency of Traveling by Air|Vehicle Monthly Distance Km|Waste Bag Size|Waste Bag Weekly Count|\n",
      "+---+--------------+-----------+------+-----------+----------------+---------------------+---------------+--------------------+-------------------------+----------------------------+----------------------------+-----------------+--------------------+--------------------+------------+------------+-----------------------------+---------------------------+--------------+----------------------+\n",
      "|  1|          2238| overweight|female|pescatarian|           daily|                 coal|          often|                 230|                        7|                          26|                           1|               No|           ['Metal']|   ['Stove', 'Oven']|      public|        null|                   frequently|                        210|         large|                     4|\n",
      "|  2|          1892|      obese|female| vegetarian| less frequently|          natural gas|          often|                 114|                        9|                          38|                           5|               No|           ['Metal']|['Stove', 'Microw...|walk/bicycle|        null|                       rarely|                          9|   extra large|                     3|\n",
      "|  3|          2595| overweight|  male|   omnivore| more frequently|                 wood|          never|                 138|                       14|                          47|                           6|        Sometimes|           ['Metal']|['Oven', 'Microwa...|     private|      petrol|                        never|                       2472|         small|                     1|\n",
      "|  4|          1074| overweight|  male|   omnivore|     twice a day|                 wood|      sometimes|                 157|                       20|                           5|                           7|        Sometimes|['Paper', 'Plasti...|['Microwave', 'Gr...|walk/bicycle|        null|                       rarely|                         74|        medium|                     3|\n",
      "|  5|          4743|      obese|female| vegetarian|           daily|                 coal|          often|                 266|                        3|                           5|                           6|              Yes|           ['Paper']|            ['Oven']|     private|      diesel|              very frequently|                       8457|         large|                     1|\n",
      "|  6|          1647| overweight|  male| vegetarian| less frequently|                 wood|      sometimes|                 144|                       22|                          18|                           9|        Sometimes|['Paper', 'Glass'...|['Stove', 'Oven',...|      public|        null|                   frequently|                        658|         large|                     1|\n",
      "|  7|          1832|underweight|female|      vegan| less frequently|                 wood|          never|                  56|                        9|                          11|                          19|        Sometimes|                  []|['Grill', 'Airfry...|     private|      hybrid|                       rarely|                       5363|        medium|                     4|\n",
      "|  8|          2322|underweight|female|      vegan| more frequently|                 coal|      sometimes|                  59|                        5|                          39|                          15|               No|['Paper', 'Plasti...|['Stove', 'Microw...|walk/bicycle|        null|              very frequently|                         54|   extra large|                     3|\n",
      "|  9|          2494| overweight|  male|   omnivore|           daily|                 wood|          never|                 200|                        3|                          31|                          15|              Yes|           ['Glass']|['Microwave', 'Gr...|      public|        null|                   frequently|                       1376|        medium|                     3|\n",
      "| 10|          1178|underweight|female|pescatarian|           daily|                 wood|          often|                 135|                        8|                          23|                          18|        Sometimes|           ['Glass']|['Microwave', 'Gr...|      public|        null|                       rarely|                        440|   extra large|                     1|\n",
      "| 11|          1427|     normal|female| vegetarian| more frequently|                 wood|          never|                 146|                       12|                          27|                          21|               No|['Paper', 'Plastic']|['Stove', 'Microw...|      public|        null|                        never|                       1561|   extra large|                     4|\n",
      "| 12|          3226|      obese|  male| vegetarian| more frequently|                 coal|          never|                 111|                        9|                           4|                           4|        Sometimes|                  []|['Stove', 'Oven',...|walk/bicycle|        null|              very frequently|                         69|        medium|                     5|\n",
      "| 13|          1593|underweight|female|   omnivore|     twice a day|                 coal|          often|                 114|                       18|                          27|                           4|              Yes|         ['Plastic']|           ['Stove']|walk/bicycle|        null|                       rarely|                         92|         large|                     3|\n",
      "| 14|          1732|underweight|female|      vegan| less frequently|          electricity|      sometimes|                 111|                       13|                          16|                          10|        Sometimes|['Plastic', 'Glas...|['Stove', 'Oven',...|     private|         lpg|                       rarely|                       2893|         large|                     6|\n",
      "| 15|          1743|      obese|  male|pescatarian| less frequently|          natural gas|          often|                 123|                       13|                          23|                           8|               No|['Paper', 'Plasti...|   ['Stove', 'Oven']|      public|        null|                       rarely|                       1989|         small|                     6|\n",
      "| 16|          2101| overweight|female| vegetarian| less frequently|          electricity|          never|                 225|                        9|                          24|                          15|               No|['Paper', 'Plasti...|   ['Stove', 'Oven']|      public|        null|              very frequently|                        692|         small|                     6|\n",
      "| 17|          2609|     normal|  male|pescatarian| more frequently|          electricity|          often|                 219|                       23|                          42|                          14|        Sometimes|                  []|['Oven', 'Microwa...|walk/bicycle|        null|                   frequently|                          7|   extra large|                     4|\n",
      "| 18|          1565| overweight|female|pescatarian|           daily|                 wood|          often|                 104|                        1|                           6|                          22|              Yes|           ['Paper']|['Stove', 'Grill'...|      public|        null|                       rarely|                        948|         large|                     6|\n",
      "| 19|          5272|underweight|  male|      vegan| more frequently|          electricity|          often|                 126|                        6|                          37|                           9|        Sometimes|                  []|           ['Stove']|     private|      petrol|              very frequently|                       7622|        medium|                     2|\n",
      "| 20|          1220|     normal|female|   omnivore| more frequently|                 wood|          often|                 288|                       15|                          22|                           6|               No|['Paper', 'Glass'...|   ['Stove', 'Oven']|walk/bicycle|        null|                        never|                         51|         small|                     4|\n",
      "+---+--------------+-----------+------+-----------+----------------+---------------------+---------------+--------------------+-------------------------+----------------------------+----------------------------+-----------------+--------------------+--------------------+------------+------------+-----------------------------+---------------------------+--------------+----------------------+\n",
      "only showing top 20 rows\n",
      "\n"
     ]
    },
    {
     "name": "stderr",
     "output_type": "stream",
     "text": [
      "                                                                                \r"
     ]
    }
   ],
   "source": [
    "df_id = reduce(lambda x, y: x.join(y, on=\"ID\", how=\"outer\"), df_list)\n",
    "df_id.show()"
   ]
  },
  {
   "cell_type": "code",
   "execution_count": 6,
   "id": "83af30490492ccf2",
   "metadata": {
    "ExecuteTime": {
     "end_time": "2024-05-22T05:41:44.214470Z",
     "start_time": "2024-05-22T05:41:41.949233Z"
    }
   },
   "outputs": [
    {
     "name": "stderr",
     "output_type": "stream",
     "text": [
      "[Stage 56:>                                                         (0 + 1) / 1]\r"
     ]
    },
    {
     "name": "stdout",
     "output_type": "stream",
     "text": [
      "+--------------+-----------+------+-----------+----------------+---------------------+---------------+--------------------+-------------------------+----------------------------+----------------------------+-----------------+--------------------+--------------------+------------+------------+-----------------------------+---------------------------+--------------+----------------------+\n",
      "|CarbonEmission|  Body Type|   Sex|       Diet|How Often Shower|Heating Energy Source|Social Activity|Monthly Grocery Bill|How Long TV PC Daily Hour|How Many New Clothes Monthly|How Long Internet Daily Hour|Energy efficiency|           Recycling|        Cooking_With|   Transport|Vehicle Type|Frequency of Traveling by Air|Vehicle Monthly Distance Km|Waste Bag Size|Waste Bag Weekly Count|\n",
      "+--------------+-----------+------+-----------+----------------+---------------------+---------------+--------------------+-------------------------+----------------------------+----------------------------+-----------------+--------------------+--------------------+------------+------------+-----------------------------+---------------------------+--------------+----------------------+\n",
      "|          2238| overweight|female|pescatarian|           daily|                 coal|          often|                 230|                        7|                          26|                           1|               No|           ['Metal']|   ['Stove', 'Oven']|      public|        null|                   frequently|                        210|         large|                     4|\n",
      "|          1892|      obese|female| vegetarian| less frequently|          natural gas|          often|                 114|                        9|                          38|                           5|               No|           ['Metal']|['Stove', 'Microw...|walk/bicycle|        null|                       rarely|                          9|   extra large|                     3|\n",
      "|          2595| overweight|  male|   omnivore| more frequently|                 wood|          never|                 138|                       14|                          47|                           6|        Sometimes|           ['Metal']|['Oven', 'Microwa...|     private|      petrol|                        never|                       2472|         small|                     1|\n",
      "|          1074| overweight|  male|   omnivore|     twice a day|                 wood|      sometimes|                 157|                       20|                           5|                           7|        Sometimes|['Paper', 'Plasti...|['Microwave', 'Gr...|walk/bicycle|        null|                       rarely|                         74|        medium|                     3|\n",
      "|          4743|      obese|female| vegetarian|           daily|                 coal|          often|                 266|                        3|                           5|                           6|              Yes|           ['Paper']|            ['Oven']|     private|      diesel|              very frequently|                       8457|         large|                     1|\n",
      "|          1647| overweight|  male| vegetarian| less frequently|                 wood|      sometimes|                 144|                       22|                          18|                           9|        Sometimes|['Paper', 'Glass'...|['Stove', 'Oven',...|      public|        null|                   frequently|                        658|         large|                     1|\n",
      "|          1832|underweight|female|      vegan| less frequently|                 wood|          never|                  56|                        9|                          11|                          19|        Sometimes|                  []|['Grill', 'Airfry...|     private|      hybrid|                       rarely|                       5363|        medium|                     4|\n",
      "|          2322|underweight|female|      vegan| more frequently|                 coal|      sometimes|                  59|                        5|                          39|                          15|               No|['Paper', 'Plasti...|['Stove', 'Microw...|walk/bicycle|        null|              very frequently|                         54|   extra large|                     3|\n",
      "|          2494| overweight|  male|   omnivore|           daily|                 wood|          never|                 200|                        3|                          31|                          15|              Yes|           ['Glass']|['Microwave', 'Gr...|      public|        null|                   frequently|                       1376|        medium|                     3|\n",
      "|          1178|underweight|female|pescatarian|           daily|                 wood|          often|                 135|                        8|                          23|                          18|        Sometimes|           ['Glass']|['Microwave', 'Gr...|      public|        null|                       rarely|                        440|   extra large|                     1|\n",
      "|          1427|     normal|female| vegetarian| more frequently|                 wood|          never|                 146|                       12|                          27|                          21|               No|['Paper', 'Plastic']|['Stove', 'Microw...|      public|        null|                        never|                       1561|   extra large|                     4|\n",
      "|          3226|      obese|  male| vegetarian| more frequently|                 coal|          never|                 111|                        9|                           4|                           4|        Sometimes|                  []|['Stove', 'Oven',...|walk/bicycle|        null|              very frequently|                         69|        medium|                     5|\n",
      "|          1593|underweight|female|   omnivore|     twice a day|                 coal|          often|                 114|                       18|                          27|                           4|              Yes|         ['Plastic']|           ['Stove']|walk/bicycle|        null|                       rarely|                         92|         large|                     3|\n",
      "|          1732|underweight|female|      vegan| less frequently|          electricity|      sometimes|                 111|                       13|                          16|                          10|        Sometimes|['Plastic', 'Glas...|['Stove', 'Oven',...|     private|         lpg|                       rarely|                       2893|         large|                     6|\n",
      "|          1743|      obese|  male|pescatarian| less frequently|          natural gas|          often|                 123|                       13|                          23|                           8|               No|['Paper', 'Plasti...|   ['Stove', 'Oven']|      public|        null|                       rarely|                       1989|         small|                     6|\n",
      "|          2101| overweight|female| vegetarian| less frequently|          electricity|          never|                 225|                        9|                          24|                          15|               No|['Paper', 'Plasti...|   ['Stove', 'Oven']|      public|        null|              very frequently|                        692|         small|                     6|\n",
      "|          2609|     normal|  male|pescatarian| more frequently|          electricity|          often|                 219|                       23|                          42|                          14|        Sometimes|                  []|['Oven', 'Microwa...|walk/bicycle|        null|                   frequently|                          7|   extra large|                     4|\n",
      "|          1565| overweight|female|pescatarian|           daily|                 wood|          often|                 104|                        1|                           6|                          22|              Yes|           ['Paper']|['Stove', 'Grill'...|      public|        null|                       rarely|                        948|         large|                     6|\n",
      "|          5272|underweight|  male|      vegan| more frequently|          electricity|          often|                 126|                        6|                          37|                           9|        Sometimes|                  []|           ['Stove']|     private|      petrol|              very frequently|                       7622|        medium|                     2|\n",
      "|          1220|     normal|female|   omnivore| more frequently|                 wood|          often|                 288|                       15|                          22|                           6|               No|['Paper', 'Glass'...|   ['Stove', 'Oven']|walk/bicycle|        null|                        never|                         51|         small|                     4|\n",
      "+--------------+-----------+------+-----------+----------------+---------------------+---------------+--------------------+-------------------------+----------------------------+----------------------------+-----------------+--------------------+--------------------+------------+------------+-----------------------------+---------------------------+--------------+----------------------+\n",
      "only showing top 20 rows\n",
      "\n"
     ]
    },
    {
     "name": "stderr",
     "output_type": "stream",
     "text": [
      "                                                                                \r"
     ]
    }
   ],
   "source": [
    "df = df_id.drop(\"ID\")\n",
    "df.show()"
   ]
  },
  {
   "cell_type": "code",
   "execution_count": 7,
   "id": "71e7a60e318389c8",
   "metadata": {
    "ExecuteTime": {
     "end_time": "2024-05-22T05:41:44.470362Z",
     "start_time": "2024-05-22T05:41:44.215934Z"
    }
   },
   "outputs": [],
   "source": [
    "# 3.1\n",
    "df = rename_columns(df=df)"
   ]
  },
  {
   "cell_type": "code",
   "execution_count": 8,
   "id": "61a9a1e5b1735002",
   "metadata": {
    "ExecuteTime": {
     "end_time": "2024-05-22T05:41:44.491020Z",
     "start_time": "2024-05-22T05:41:44.471899Z"
    }
   },
   "outputs": [],
   "source": [
    "df = df.drop(\n",
    "    \"energy_efficiency\",\n",
    "    \"how_long_t_v_p_c_daily_hour\",\n",
    "    \"how_often_shower\",\n",
    ")"
   ]
  },
  {
   "cell_type": "code",
   "execution_count": 9,
   "id": "8f83ca3cf023265",
   "metadata": {
    "ExecuteTime": {
     "end_time": "2024-05-22T05:41:46.384545Z",
     "start_time": "2024-05-22T05:41:44.492507Z"
    }
   },
   "outputs": [
    {
     "name": "stderr",
     "output_type": "stream",
     "text": [
      "[Stage 85:>                                                         (0 + 1) / 1]\r"
     ]
    },
    {
     "name": "stdout",
     "output_type": "stream",
     "text": [
      "+---------------+-----------+------+-----------+---------------------+---------------+--------------------+----------------------------+----------------------------+--------------------+--------------------+------------+------------+-----------------------------+---------------------------+--------------+----------------------+\n",
      "|carbon_emission|  body_type|   sex|       diet|heating_energy_source|social_activity|monthly_grocery_bill|how_many_new_clothes_monthly|how_long_internet_daily_hour|           recycling|        cooking_with|   transport|vehicle_type|frequency_of_traveling_by_air|vehicle_monthly_distance_km|waste_bag_size|waste_bag_weekly_count|\n",
      "+---------------+-----------+------+-----------+---------------------+---------------+--------------------+----------------------------+----------------------------+--------------------+--------------------+------------+------------+-----------------------------+---------------------------+--------------+----------------------+\n",
      "|           2238| overweight|female|pescatarian|                 coal|          often|                 230|                          26|                           1|           ['Metal']|   ['Stove', 'Oven']|      public|        null|                   frequently|                        210|         large|                     4|\n",
      "|           1892|      obese|female| vegetarian|          natural gas|          often|                 114|                          38|                           5|           ['Metal']|['Stove', 'Microw...|walk/bicycle|        null|                       rarely|                          9|   extra large|                     3|\n",
      "|           2595| overweight|  male|   omnivore|                 wood|          never|                 138|                          47|                           6|           ['Metal']|['Oven', 'Microwa...|     private|      petrol|                        never|                       2472|         small|                     1|\n",
      "|           1074| overweight|  male|   omnivore|                 wood|      sometimes|                 157|                           5|                           7|['Paper', 'Plasti...|['Microwave', 'Gr...|walk/bicycle|        null|                       rarely|                         74|        medium|                     3|\n",
      "|           4743|      obese|female| vegetarian|                 coal|          often|                 266|                           5|                           6|           ['Paper']|            ['Oven']|     private|      diesel|              very frequently|                       8457|         large|                     1|\n",
      "|           1647| overweight|  male| vegetarian|                 wood|      sometimes|                 144|                          18|                           9|['Paper', 'Glass'...|['Stove', 'Oven',...|      public|        null|                   frequently|                        658|         large|                     1|\n",
      "|           1832|underweight|female|      vegan|                 wood|          never|                  56|                          11|                          19|                  []|['Grill', 'Airfry...|     private|      hybrid|                       rarely|                       5363|        medium|                     4|\n",
      "|           2322|underweight|female|      vegan|                 coal|      sometimes|                  59|                          39|                          15|['Paper', 'Plasti...|['Stove', 'Microw...|walk/bicycle|        null|              very frequently|                         54|   extra large|                     3|\n",
      "|           2494| overweight|  male|   omnivore|                 wood|          never|                 200|                          31|                          15|           ['Glass']|['Microwave', 'Gr...|      public|        null|                   frequently|                       1376|        medium|                     3|\n",
      "|           1178|underweight|female|pescatarian|                 wood|          often|                 135|                          23|                          18|           ['Glass']|['Microwave', 'Gr...|      public|        null|                       rarely|                        440|   extra large|                     1|\n",
      "|           1427|     normal|female| vegetarian|                 wood|          never|                 146|                          27|                          21|['Paper', 'Plastic']|['Stove', 'Microw...|      public|        null|                        never|                       1561|   extra large|                     4|\n",
      "|           3226|      obese|  male| vegetarian|                 coal|          never|                 111|                           4|                           4|                  []|['Stove', 'Oven',...|walk/bicycle|        null|              very frequently|                         69|        medium|                     5|\n",
      "|           1593|underweight|female|   omnivore|                 coal|          often|                 114|                          27|                           4|         ['Plastic']|           ['Stove']|walk/bicycle|        null|                       rarely|                         92|         large|                     3|\n",
      "|           1732|underweight|female|      vegan|          electricity|      sometimes|                 111|                          16|                          10|['Plastic', 'Glas...|['Stove', 'Oven',...|     private|         lpg|                       rarely|                       2893|         large|                     6|\n",
      "|           1743|      obese|  male|pescatarian|          natural gas|          often|                 123|                          23|                           8|['Paper', 'Plasti...|   ['Stove', 'Oven']|      public|        null|                       rarely|                       1989|         small|                     6|\n",
      "|           2101| overweight|female| vegetarian|          electricity|          never|                 225|                          24|                          15|['Paper', 'Plasti...|   ['Stove', 'Oven']|      public|        null|              very frequently|                        692|         small|                     6|\n",
      "|           2609|     normal|  male|pescatarian|          electricity|          often|                 219|                          42|                          14|                  []|['Oven', 'Microwa...|walk/bicycle|        null|                   frequently|                          7|   extra large|                     4|\n",
      "|           1565| overweight|female|pescatarian|                 wood|          often|                 104|                           6|                          22|           ['Paper']|['Stove', 'Grill'...|      public|        null|                       rarely|                        948|         large|                     6|\n",
      "|           5272|underweight|  male|      vegan|          electricity|          often|                 126|                          37|                           9|                  []|           ['Stove']|     private|      petrol|              very frequently|                       7622|        medium|                     2|\n",
      "|           1220|     normal|female|   omnivore|                 wood|          often|                 288|                          22|                           6|['Paper', 'Glass'...|   ['Stove', 'Oven']|walk/bicycle|        null|                        never|                         51|         small|                     4|\n",
      "+---------------+-----------+------+-----------+---------------------+---------------+--------------------+----------------------------+----------------------------+--------------------+--------------------+------------+------------+-----------------------------+---------------------------+--------------+----------------------+\n",
      "only showing top 20 rows\n",
      "\n"
     ]
    },
    {
     "name": "stderr",
     "output_type": "stream",
     "text": [
      "                                                                                \r"
     ]
    }
   ],
   "source": [
    "df.show()"
   ]
  },
  {
   "cell_type": "code",
   "execution_count": 10,
   "id": "5c433bfacfa87ad",
   "metadata": {
    "ExecuteTime": {
     "end_time": "2024-05-22T05:41:46.490999Z",
     "start_time": "2024-05-22T05:41:46.388350Z"
    }
   },
   "outputs": [],
   "source": [
    "df = df.na.fill(\n",
    "    \"not_applicable\",\n",
    "    subset=[\"vehicle_type\"],\n",
    ").na.drop()"
   ]
  },
  {
   "cell_type": "code",
   "execution_count": 11,
   "id": "97b2f3a7f9ac193f",
   "metadata": {
    "ExecuteTime": {
     "end_time": "2024-05-22T05:42:08.125785Z",
     "start_time": "2024-05-22T05:41:46.492913Z"
    }
   },
   "outputs": [
    {
     "name": "stderr",
     "output_type": "stream",
     "text": [
      "                                                                                \r"
     ]
    },
    {
     "data": {
      "text/html": [
       "<div>\n",
       "<style scoped>\n",
       "    .dataframe tbody tr th:only-of-type {\n",
       "        vertical-align: middle;\n",
       "    }\n",
       "\n",
       "    .dataframe tbody tr th {\n",
       "        vertical-align: top;\n",
       "    }\n",
       "\n",
       "    .dataframe thead th {\n",
       "        text-align: right;\n",
       "    }\n",
       "</style>\n",
       "<table border=\"1\" class=\"dataframe\">\n",
       "  <thead>\n",
       "    <tr style=\"text-align: right;\">\n",
       "      <th>summary</th>\n",
       "      <th>count</th>\n",
       "      <th>mean</th>\n",
       "      <th>stddev</th>\n",
       "      <th>min</th>\n",
       "      <th>max</th>\n",
       "      <th>outlier_count</th>\n",
       "      <th>null_count</th>\n",
       "    </tr>\n",
       "  </thead>\n",
       "  <tbody>\n",
       "    <tr>\n",
       "      <th>carbon_emission</th>\n",
       "      <td>10080</td>\n",
       "      <td>2268.6126984126986</td>\n",
       "      <td>1017.3791822295326</td>\n",
       "      <td>306</td>\n",
       "      <td>8377</td>\n",
       "      <td>128</td>\n",
       "      <td>0</td>\n",
       "    </tr>\n",
       "    <tr>\n",
       "      <th>body_type</th>\n",
       "      <td>10080</td>\n",
       "      <td>None</td>\n",
       "      <td>None</td>\n",
       "      <td>fat</td>\n",
       "      <td>very fat</td>\n",
       "      <td>None</td>\n",
       "      <td>0</td>\n",
       "    </tr>\n",
       "    <tr>\n",
       "      <th>sex</th>\n",
       "      <td>10080</td>\n",
       "      <td>None</td>\n",
       "      <td>None</td>\n",
       "      <td>f</td>\n",
       "      <td>male</td>\n",
       "      <td>None</td>\n",
       "      <td>0</td>\n",
       "    </tr>\n",
       "    <tr>\n",
       "      <th>diet</th>\n",
       "      <td>10080</td>\n",
       "      <td>None</td>\n",
       "      <td>None</td>\n",
       "      <td>omnivore</td>\n",
       "      <td>vegetarian</td>\n",
       "      <td>None</td>\n",
       "      <td>0</td>\n",
       "    </tr>\n",
       "    <tr>\n",
       "      <th>heating_energy_source</th>\n",
       "      <td>10080</td>\n",
       "      <td>None</td>\n",
       "      <td>None</td>\n",
       "      <td>coal</td>\n",
       "      <td>wood</td>\n",
       "      <td>None</td>\n",
       "      <td>0</td>\n",
       "    </tr>\n",
       "    <tr>\n",
       "      <th>social_activity</th>\n",
       "      <td>10080</td>\n",
       "      <td>None</td>\n",
       "      <td>None</td>\n",
       "      <td>never</td>\n",
       "      <td>sometimes</td>\n",
       "      <td>None</td>\n",
       "      <td>0</td>\n",
       "    </tr>\n",
       "    <tr>\n",
       "      <th>monthly_grocery_bill</th>\n",
       "      <td>10080</td>\n",
       "      <td>175.0986111111111</td>\n",
       "      <td>110.810280854913</td>\n",
       "      <td>1</td>\n",
       "      <td>8000</td>\n",
       "      <td>3</td>\n",
       "      <td>0</td>\n",
       "    </tr>\n",
       "    <tr>\n",
       "      <th>how_many_new_clothes_monthly</th>\n",
       "      <td>10080</td>\n",
       "      <td>25.08888888888889</td>\n",
       "      <td>14.709032126869957</td>\n",
       "      <td>0</td>\n",
       "      <td>50</td>\n",
       "      <td>0</td>\n",
       "      <td>0</td>\n",
       "    </tr>\n",
       "    <tr>\n",
       "      <th>how_long_internet_daily_hour</th>\n",
       "      <td>10080</td>\n",
       "      <td>11.924007936507936</td>\n",
       "      <td>7.397732093750228</td>\n",
       "      <td>0</td>\n",
       "      <td>95</td>\n",
       "      <td>5</td>\n",
       "      <td>0</td>\n",
       "    </tr>\n",
       "    <tr>\n",
       "      <th>recycling</th>\n",
       "      <td>10080</td>\n",
       "      <td>None</td>\n",
       "      <td>None</td>\n",
       "      <td>['Glass', 'Metal']</td>\n",
       "      <td>[]</td>\n",
       "      <td>None</td>\n",
       "      <td>0</td>\n",
       "    </tr>\n",
       "    <tr>\n",
       "      <th>cooking_with</th>\n",
       "      <td>10080</td>\n",
       "      <td>None</td>\n",
       "      <td>None</td>\n",
       "      <td>['Grill', 'Airfryer']</td>\n",
       "      <td>[]</td>\n",
       "      <td>None</td>\n",
       "      <td>0</td>\n",
       "    </tr>\n",
       "    <tr>\n",
       "      <th>transport</th>\n",
       "      <td>10080</td>\n",
       "      <td>None</td>\n",
       "      <td>None</td>\n",
       "      <td>private</td>\n",
       "      <td>walk/bicycle</td>\n",
       "      <td>None</td>\n",
       "      <td>0</td>\n",
       "    </tr>\n",
       "    <tr>\n",
       "      <th>vehicle_type</th>\n",
       "      <td>10080</td>\n",
       "      <td>None</td>\n",
       "      <td>None</td>\n",
       "      <td>diesel</td>\n",
       "      <td>petrol</td>\n",
       "      <td>None</td>\n",
       "      <td>0</td>\n",
       "    </tr>\n",
       "    <tr>\n",
       "      <th>frequency_of_traveling_by_air</th>\n",
       "      <td>10080</td>\n",
       "      <td>None</td>\n",
       "      <td>None</td>\n",
       "      <td>frequently</td>\n",
       "      <td>very frequently</td>\n",
       "      <td>None</td>\n",
       "      <td>0</td>\n",
       "    </tr>\n",
       "    <tr>\n",
       "      <th>vehicle_monthly_distance_km</th>\n",
       "      <td>10080</td>\n",
       "      <td>2041.5126984126985</td>\n",
       "      <td>2825.1934998466922</td>\n",
       "      <td>0</td>\n",
       "      <td>55532</td>\n",
       "      <td>2</td>\n",
       "      <td>0</td>\n",
       "    </tr>\n",
       "    <tr>\n",
       "      <th>waste_bag_size</th>\n",
       "      <td>10080</td>\n",
       "      <td>None</td>\n",
       "      <td>None</td>\n",
       "      <td>extra large</td>\n",
       "      <td>small</td>\n",
       "      <td>None</td>\n",
       "      <td>0</td>\n",
       "    </tr>\n",
       "    <tr>\n",
       "      <th>waste_bag_weekly_count</th>\n",
       "      <td>10080</td>\n",
       "      <td>4.066369047619047</td>\n",
       "      <td>3.2771052019318097</td>\n",
       "      <td>1</td>\n",
       "      <td>233</td>\n",
       "      <td>5</td>\n",
       "      <td>0</td>\n",
       "    </tr>\n",
       "  </tbody>\n",
       "</table>\n",
       "</div>"
      ],
      "text/plain": [
       "summary                        count                mean              stddev  \\\n",
       "carbon_emission                10080  2268.6126984126986  1017.3791822295326   \n",
       "body_type                      10080                None                None   \n",
       "sex                            10080                None                None   \n",
       "diet                           10080                None                None   \n",
       "heating_energy_source          10080                None                None   \n",
       "social_activity                10080                None                None   \n",
       "monthly_grocery_bill           10080   175.0986111111111    110.810280854913   \n",
       "how_many_new_clothes_monthly   10080   25.08888888888889  14.709032126869957   \n",
       "how_long_internet_daily_hour   10080  11.924007936507936   7.397732093750228   \n",
       "recycling                      10080                None                None   \n",
       "cooking_with                   10080                None                None   \n",
       "transport                      10080                None                None   \n",
       "vehicle_type                   10080                None                None   \n",
       "frequency_of_traveling_by_air  10080                None                None   \n",
       "vehicle_monthly_distance_km    10080  2041.5126984126985  2825.1934998466922   \n",
       "waste_bag_size                 10080                None                None   \n",
       "waste_bag_weekly_count         10080   4.066369047619047  3.2771052019318097   \n",
       "\n",
       "summary                                          min              max  \\\n",
       "carbon_emission                                  306             8377   \n",
       "body_type                                        fat         very fat   \n",
       "sex                                                f             male   \n",
       "diet                                        omnivore       vegetarian   \n",
       "heating_energy_source                           coal             wood   \n",
       "social_activity                                never        sometimes   \n",
       "monthly_grocery_bill                               1             8000   \n",
       "how_many_new_clothes_monthly                       0               50   \n",
       "how_long_internet_daily_hour                       0               95   \n",
       "recycling                         ['Glass', 'Metal']               []   \n",
       "cooking_with                   ['Grill', 'Airfryer']               []   \n",
       "transport                                    private     walk/bicycle   \n",
       "vehicle_type                                  diesel           petrol   \n",
       "frequency_of_traveling_by_air             frequently  very frequently   \n",
       "vehicle_monthly_distance_km                        0            55532   \n",
       "waste_bag_size                           extra large            small   \n",
       "waste_bag_weekly_count                             1              233   \n",
       "\n",
       "summary                       outlier_count  null_count  \n",
       "carbon_emission                         128           0  \n",
       "body_type                              None           0  \n",
       "sex                                    None           0  \n",
       "diet                                   None           0  \n",
       "heating_energy_source                  None           0  \n",
       "social_activity                        None           0  \n",
       "monthly_grocery_bill                      3           0  \n",
       "how_many_new_clothes_monthly              0           0  \n",
       "how_long_internet_daily_hour              5           0  \n",
       "recycling                              None           0  \n",
       "cooking_with                           None           0  \n",
       "transport                              None           0  \n",
       "vehicle_type                           None           0  \n",
       "frequency_of_traveling_by_air          None           0  \n",
       "vehicle_monthly_distance_km               2           0  \n",
       "waste_bag_size                         None           0  \n",
       "waste_bag_weekly_count                    5           0  "
      ]
     },
     "execution_count": 11,
     "metadata": {},
     "output_type": "execute_result"
    }
   ],
   "source": [
    "describe_dataframe_details(df=df, spark=spark)"
   ]
  },
  {
   "cell_type": "code",
   "execution_count": 12,
   "id": "4a17fea6224960e9",
   "metadata": {
    "ExecuteTime": {
     "end_time": "2024-05-22T05:42:10.352045Z",
     "start_time": "2024-05-22T05:42:08.129640Z"
    }
   },
   "outputs": [
    {
     "name": "stderr",
     "output_type": "stream",
     "text": [
      "[Stage 561:>                                                        (0 + 1) / 1]\r"
     ]
    },
    {
     "name": "stdout",
     "output_type": "stream",
     "text": [
      "+---------------+-----------+------+-----------+---------------------+---------------+--------------------+----------------------------+----------------------------+--------------------+--------------------+------------+--------------+-----------------------------+---------------------------+--------------+----------------------+\n",
      "|carbon_emission|  body_type|   sex|       diet|heating_energy_source|social_activity|monthly_grocery_bill|how_many_new_clothes_monthly|how_long_internet_daily_hour|           recycling|        cooking_with|   transport|  vehicle_type|frequency_of_traveling_by_air|vehicle_monthly_distance_km|waste_bag_size|waste_bag_weekly_count|\n",
      "+---------------+-----------+------+-----------+---------------------+---------------+--------------------+----------------------------+----------------------------+--------------------+--------------------+------------+--------------+-----------------------------+---------------------------+--------------+----------------------+\n",
      "|           2238| overweight|female|pescatarian|                 coal|          often|                 230|                          26|                           1|             [Metal]|       [Stove, Oven]|      public|not_applicable|                   frequently|                        210|         large|                     4|\n",
      "|           1892|      obese|female| vegetarian|          natural gas|          often|                 114|                          38|                           5|             [Metal]|  [Stove, Microwave]|walk/bicycle|not_applicable|                       rarely|                          9|   extra large|                     3|\n",
      "|           2595| overweight|  male|   omnivore|                 wood|          never|                 138|                          47|                           6|             [Metal]|   [Oven, Microwave]|     private|        petrol|                        never|                       2472|         small|                     1|\n",
      "|           1074| overweight|  male|   omnivore|                 wood|      sometimes|                 157|                           5|                           7|[Paper, Plastic, ...|[Microwave, Grill...|walk/bicycle|not_applicable|                       rarely|                         74|        medium|                     3|\n",
      "|           4743|      obese|female| vegetarian|                 coal|          often|                 266|                           5|                           6|             [Paper]|              [Oven]|     private|        diesel|              very frequently|                       8457|         large|                     1|\n",
      "|           1647| overweight|  male| vegetarian|                 wood|      sometimes|                 144|                          18|                           9|[Paper, Glass, Me...|[Stove, Oven, Mic...|      public|not_applicable|                   frequently|                        658|         large|                     1|\n",
      "|           1832|underweight|female|      vegan|                 wood|          never|                  56|                          11|                          19|                  []|   [Grill, Airfryer]|     private|        hybrid|                       rarely|                       5363|        medium|                     4|\n",
      "|           2322|underweight|female|      vegan|                 coal|      sometimes|                  59|                          39|                          15|[Paper, Plastic, ...|  [Stove, Microwave]|walk/bicycle|not_applicable|              very frequently|                         54|   extra large|                     3|\n",
      "|           2494| overweight|  male|   omnivore|                 wood|          never|                 200|                          31|                          15|             [Glass]|[Microwave, Grill...|      public|not_applicable|                   frequently|                       1376|        medium|                     3|\n",
      "|           1178|underweight|female|pescatarian|                 wood|          often|                 135|                          23|                          18|             [Glass]|[Microwave, Grill...|      public|not_applicable|                       rarely|                        440|   extra large|                     1|\n",
      "|           1427|     normal|female| vegetarian|                 wood|          never|                 146|                          27|                          21|    [Paper, Plastic]|  [Stove, Microwave]|      public|not_applicable|                        never|                       1561|   extra large|                     4|\n",
      "|           3226|      obese|  male| vegetarian|                 coal|          never|                 111|                           4|                           4|                  []|[Stove, Oven, Mic...|walk/bicycle|not_applicable|              very frequently|                         69|        medium|                     5|\n",
      "|           1593|underweight|female|   omnivore|                 coal|          often|                 114|                          27|                           4|           [Plastic]|             [Stove]|walk/bicycle|not_applicable|                       rarely|                         92|         large|                     3|\n",
      "|           1732|underweight|female|      vegan|          electricity|      sometimes|                 111|                          16|                          10|[Plastic, Glass, ...|[Stove, Oven, Mic...|     private|           lpg|                       rarely|                       2893|         large|                     6|\n",
      "|           1743|      obese|  male|pescatarian|          natural gas|          often|                 123|                          23|                           8|[Paper, Plastic, ...|       [Stove, Oven]|      public|not_applicable|                       rarely|                       1989|         small|                     6|\n",
      "|           2101| overweight|female| vegetarian|          electricity|          never|                 225|                          24|                          15|[Paper, Plastic, ...|       [Stove, Oven]|      public|not_applicable|              very frequently|                        692|         small|                     6|\n",
      "|           2609|     normal|  male|pescatarian|          electricity|          often|                 219|                          42|                          14|                  []|[Oven, Microwave,...|walk/bicycle|not_applicable|                   frequently|                          7|   extra large|                     4|\n",
      "|           1565| overweight|female|pescatarian|                 wood|          often|                 104|                           6|                          22|             [Paper]|[Stove, Grill, Ai...|      public|not_applicable|                       rarely|                        948|         large|                     6|\n",
      "|           5272|underweight|  male|      vegan|          electricity|          often|                 126|                          37|                           9|                  []|             [Stove]|     private|        petrol|              very frequently|                       7622|        medium|                     2|\n",
      "|           1220|     normal|female|   omnivore|                 wood|          often|                 288|                          22|                           6|[Paper, Glass, Me...|       [Stove, Oven]|walk/bicycle|not_applicable|                        never|                         51|         small|                     4|\n",
      "+---------------+-----------+------+-----------+---------------------+---------------+--------------------+----------------------------+----------------------------+--------------------+--------------------+------------+--------------+-----------------------------+---------------------------+--------------+----------------------+\n",
      "only showing top 20 rows\n",
      "\n"
     ]
    },
    {
     "name": "stderr",
     "output_type": "stream",
     "text": [
      "                                                                                \r"
     ]
    }
   ],
   "source": [
    "def string_to_nested_list(s):\n",
    "    return ast.literal_eval(s)\n",
    "\n",
    "\n",
    "# Define the UDF\n",
    "nested_list_udf = udf(string_to_nested_list, ArrayType((StringType())))\n",
    "df = df.withColumn(\"recycling\", nested_list_udf(df.recycling))\n",
    "df = df.withColumn(\"cooking_with\", nested_list_udf(df.cooking_with))\n",
    "df.show()"
   ]
  },
  {
   "cell_type": "code",
   "execution_count": 13,
   "id": "7401130faf640b79",
   "metadata": {
    "ExecuteTime": {
     "end_time": "2024-05-22T05:42:31.936579Z",
     "start_time": "2024-05-22T05:42:10.353507Z"
    }
   },
   "outputs": [],
   "source": [
    "inconsistent_values_pair = []\n",
    "for column_name in df.columns:\n",
    "    if df.schema[column_name].dataType == StringType():\n",
    "        distribution_df = df.groupBy(column_name).count()\n",
    "        distribution_df = distribution_df.where(\n",
    "            col(\"count\") / df.count() < 0.005\n",
    "        ).select(column_name)\n",
    "        for row in distribution_df.toLocalIterator():\n",
    "            inconsistent_values_pair.append(\n",
    "                tuple([next(iter(row.asDict())), next(iter(row.asDict().values()))])\n",
    "            )\n",
    "expr = \" and \".join(\n",
    "    f'({value_pair[0]} != \"{value_pair[1]}\")' for value_pair in inconsistent_values_pair\n",
    ")\n",
    "df = df.filter(expr)"
   ]
  },
  {
   "cell_type": "code",
   "execution_count": 14,
   "id": "20f66a2d79f1fb7d",
   "metadata": {
    "ExecuteTime": {
     "end_time": "2024-05-22T05:42:42.602403Z",
     "start_time": "2024-05-22T05:42:31.938129Z"
    }
   },
   "outputs": [
    {
     "name": "stderr",
     "output_type": "stream",
     "text": [
      "                                                                                \r"
     ]
    },
    {
     "data": {
      "text/html": [
       "<div>\n",
       "<style scoped>\n",
       "    .dataframe tbody tr th:only-of-type {\n",
       "        vertical-align: middle;\n",
       "    }\n",
       "\n",
       "    .dataframe tbody tr th {\n",
       "        vertical-align: top;\n",
       "    }\n",
       "\n",
       "    .dataframe thead th {\n",
       "        text-align: right;\n",
       "    }\n",
       "</style>\n",
       "<table border=\"1\" class=\"dataframe\">\n",
       "  <thead>\n",
       "    <tr style=\"text-align: right;\">\n",
       "      <th>summary</th>\n",
       "      <th>count</th>\n",
       "      <th>mean</th>\n",
       "      <th>stddev</th>\n",
       "      <th>min</th>\n",
       "      <th>max</th>\n",
       "      <th>outlier_count</th>\n",
       "      <th>null_count</th>\n",
       "    </tr>\n",
       "  </thead>\n",
       "  <tbody>\n",
       "    <tr>\n",
       "      <th>carbon_emission</th>\n",
       "      <td>10061</td>\n",
       "      <td>2268.631646953583</td>\n",
       "      <td>1017.2817747472733</td>\n",
       "      <td>306</td>\n",
       "      <td>8377</td>\n",
       "      <td>128</td>\n",
       "      <td>0</td>\n",
       "    </tr>\n",
       "    <tr>\n",
       "      <th>body_type</th>\n",
       "      <td>10061</td>\n",
       "      <td>None</td>\n",
       "      <td>None</td>\n",
       "      <td>normal</td>\n",
       "      <td>underweight</td>\n",
       "      <td>None</td>\n",
       "      <td>0</td>\n",
       "    </tr>\n",
       "    <tr>\n",
       "      <th>sex</th>\n",
       "      <td>10061</td>\n",
       "      <td>None</td>\n",
       "      <td>None</td>\n",
       "      <td>female</td>\n",
       "      <td>male</td>\n",
       "      <td>None</td>\n",
       "      <td>0</td>\n",
       "    </tr>\n",
       "    <tr>\n",
       "      <th>diet</th>\n",
       "      <td>10061</td>\n",
       "      <td>None</td>\n",
       "      <td>None</td>\n",
       "      <td>omnivore</td>\n",
       "      <td>vegetarian</td>\n",
       "      <td>None</td>\n",
       "      <td>0</td>\n",
       "    </tr>\n",
       "    <tr>\n",
       "      <th>heating_energy_source</th>\n",
       "      <td>10061</td>\n",
       "      <td>None</td>\n",
       "      <td>None</td>\n",
       "      <td>coal</td>\n",
       "      <td>wood</td>\n",
       "      <td>None</td>\n",
       "      <td>0</td>\n",
       "    </tr>\n",
       "    <tr>\n",
       "      <th>social_activity</th>\n",
       "      <td>10061</td>\n",
       "      <td>None</td>\n",
       "      <td>None</td>\n",
       "      <td>never</td>\n",
       "      <td>sometimes</td>\n",
       "      <td>None</td>\n",
       "      <td>0</td>\n",
       "    </tr>\n",
       "    <tr>\n",
       "      <th>monthly_grocery_bill</th>\n",
       "      <td>10061</td>\n",
       "      <td>175.09591491899414</td>\n",
       "      <td>110.86654006495617</td>\n",
       "      <td>1</td>\n",
       "      <td>8000</td>\n",
       "      <td>3</td>\n",
       "      <td>0</td>\n",
       "    </tr>\n",
       "    <tr>\n",
       "      <th>how_many_new_clothes_monthly</th>\n",
       "      <td>10061</td>\n",
       "      <td>25.09094523407216</td>\n",
       "      <td>14.706140050332792</td>\n",
       "      <td>0</td>\n",
       "      <td>50</td>\n",
       "      <td>0</td>\n",
       "      <td>0</td>\n",
       "    </tr>\n",
       "    <tr>\n",
       "      <th>how_long_internet_daily_hour</th>\n",
       "      <td>10061</td>\n",
       "      <td>11.921280190835901</td>\n",
       "      <td>7.395794664456366</td>\n",
       "      <td>0</td>\n",
       "      <td>95</td>\n",
       "      <td>5</td>\n",
       "      <td>0</td>\n",
       "    </tr>\n",
       "    <tr>\n",
       "      <th>transport</th>\n",
       "      <td>10061</td>\n",
       "      <td>None</td>\n",
       "      <td>None</td>\n",
       "      <td>private</td>\n",
       "      <td>walk/bicycle</td>\n",
       "      <td>None</td>\n",
       "      <td>0</td>\n",
       "    </tr>\n",
       "    <tr>\n",
       "      <th>vehicle_type</th>\n",
       "      <td>10061</td>\n",
       "      <td>None</td>\n",
       "      <td>None</td>\n",
       "      <td>diesel</td>\n",
       "      <td>petrol</td>\n",
       "      <td>None</td>\n",
       "      <td>0</td>\n",
       "    </tr>\n",
       "    <tr>\n",
       "      <th>frequency_of_traveling_by_air</th>\n",
       "      <td>10061</td>\n",
       "      <td>None</td>\n",
       "      <td>None</td>\n",
       "      <td>frequently</td>\n",
       "      <td>very frequently</td>\n",
       "      <td>None</td>\n",
       "      <td>0</td>\n",
       "    </tr>\n",
       "    <tr>\n",
       "      <th>vehicle_monthly_distance_km</th>\n",
       "      <td>10061</td>\n",
       "      <td>2040.3549348971276</td>\n",
       "      <td>2823.869848703767</td>\n",
       "      <td>0</td>\n",
       "      <td>55532</td>\n",
       "      <td>2</td>\n",
       "      <td>0</td>\n",
       "    </tr>\n",
       "    <tr>\n",
       "      <th>waste_bag_size</th>\n",
       "      <td>10061</td>\n",
       "      <td>None</td>\n",
       "      <td>None</td>\n",
       "      <td>extra large</td>\n",
       "      <td>small</td>\n",
       "      <td>None</td>\n",
       "      <td>0</td>\n",
       "    </tr>\n",
       "    <tr>\n",
       "      <th>waste_bag_weekly_count</th>\n",
       "      <td>10061</td>\n",
       "      <td>4.061127124540304</td>\n",
       "      <td>3.2018168118213732</td>\n",
       "      <td>1</td>\n",
       "      <td>233</td>\n",
       "      <td>4</td>\n",
       "      <td>0</td>\n",
       "    </tr>\n",
       "  </tbody>\n",
       "</table>\n",
       "</div>"
      ],
      "text/plain": [
       "summary                        count                mean              stddev  \\\n",
       "carbon_emission                10061   2268.631646953583  1017.2817747472733   \n",
       "body_type                      10061                None                None   \n",
       "sex                            10061                None                None   \n",
       "diet                           10061                None                None   \n",
       "heating_energy_source          10061                None                None   \n",
       "social_activity                10061                None                None   \n",
       "monthly_grocery_bill           10061  175.09591491899414  110.86654006495617   \n",
       "how_many_new_clothes_monthly   10061   25.09094523407216  14.706140050332792   \n",
       "how_long_internet_daily_hour   10061  11.921280190835901   7.395794664456366   \n",
       "transport                      10061                None                None   \n",
       "vehicle_type                   10061                None                None   \n",
       "frequency_of_traveling_by_air  10061                None                None   \n",
       "vehicle_monthly_distance_km    10061  2040.3549348971276   2823.869848703767   \n",
       "waste_bag_size                 10061                None                None   \n",
       "waste_bag_weekly_count         10061   4.061127124540304  3.2018168118213732   \n",
       "\n",
       "summary                                min              max outlier_count  \\\n",
       "carbon_emission                        306             8377           128   \n",
       "body_type                           normal      underweight          None   \n",
       "sex                                 female             male          None   \n",
       "diet                              omnivore       vegetarian          None   \n",
       "heating_energy_source                 coal             wood          None   \n",
       "social_activity                      never        sometimes          None   \n",
       "monthly_grocery_bill                     1             8000             3   \n",
       "how_many_new_clothes_monthly             0               50             0   \n",
       "how_long_internet_daily_hour             0               95             5   \n",
       "transport                          private     walk/bicycle          None   \n",
       "vehicle_type                        diesel           petrol          None   \n",
       "frequency_of_traveling_by_air   frequently  very frequently          None   \n",
       "vehicle_monthly_distance_km              0            55532             2   \n",
       "waste_bag_size                 extra large            small          None   \n",
       "waste_bag_weekly_count                   1              233             4   \n",
       "\n",
       "summary                        null_count  \n",
       "carbon_emission                         0  \n",
       "body_type                               0  \n",
       "sex                                     0  \n",
       "diet                                    0  \n",
       "heating_energy_source                   0  \n",
       "social_activity                         0  \n",
       "monthly_grocery_bill                    0  \n",
       "how_many_new_clothes_monthly            0  \n",
       "how_long_internet_daily_hour            0  \n",
       "transport                               0  \n",
       "vehicle_type                            0  \n",
       "frequency_of_traveling_by_air           0  \n",
       "vehicle_monthly_distance_km             0  \n",
       "waste_bag_size                          0  \n",
       "waste_bag_weekly_count                  0  "
      ]
     },
     "execution_count": 14,
     "metadata": {},
     "output_type": "execute_result"
    }
   ],
   "source": [
    "describe_dataframe_details(df=df, spark=spark)"
   ]
  },
  {
   "cell_type": "code",
   "execution_count": 15,
   "id": "11e4a6c071345918",
   "metadata": {
    "ExecuteTime": {
     "end_time": "2024-05-22T05:42:45.950467Z",
     "start_time": "2024-05-22T05:42:42.604099Z"
    }
   },
   "outputs": [],
   "source": [
    "continuous_columns = detect_continuous_variables(df)\n",
    "continuous_columns.remove(change_case(DATASET.TARGET))\n",
    "abs_z_df = abs_z_score(df=df, columns=continuous_columns)\n",
    "for column_name in abs_z_df.columns:\n",
    "    abs_z_df = abs_z_df.withColumnRenamed(column_name, column_name + \"_abs_z\")\n",
    "abs_z_df = (\n",
    "    abs_z_df.withColumn(\n",
    "        \"max\", greatest(*[abs_z_df[column_name] for column_name in abs_z_df.columns])\n",
    "    )\n",
    "    .select(\"max\")\n",
    "    .withColumn(\"ID\", monotonically_increasing_id())\n",
    ")\n",
    "df = (\n",
    "    df.withColumn(\"ID\", monotonically_increasing_id())\n",
    "    .join(abs_z_df, on=\"ID\", how=\"inner\")\n",
    "    .drop(\"ID\")\n",
    "    .filter(col(\"max\") <= 3)\n",
    "    .drop(\"max\")\n",
    ")"
   ]
  },
  {
   "cell_type": "code",
   "execution_count": 16,
   "id": "848fd15e1caaba53",
   "metadata": {
    "ExecuteTime": {
     "end_time": "2024-05-22T05:43:03.677489Z",
     "start_time": "2024-05-22T05:42:45.952041Z"
    }
   },
   "outputs": [
    {
     "name": "stderr",
     "output_type": "stream",
     "text": [
      "                                                                                \r"
     ]
    },
    {
     "data": {
      "text/html": [
       "<div>\n",
       "<style scoped>\n",
       "    .dataframe tbody tr th:only-of-type {\n",
       "        vertical-align: middle;\n",
       "    }\n",
       "\n",
       "    .dataframe tbody tr th {\n",
       "        vertical-align: top;\n",
       "    }\n",
       "\n",
       "    .dataframe thead th {\n",
       "        text-align: right;\n",
       "    }\n",
       "</style>\n",
       "<table border=\"1\" class=\"dataframe\">\n",
       "  <thead>\n",
       "    <tr style=\"text-align: right;\">\n",
       "      <th>summary</th>\n",
       "      <th>count</th>\n",
       "      <th>mean</th>\n",
       "      <th>stddev</th>\n",
       "      <th>min</th>\n",
       "      <th>max</th>\n",
       "      <th>outlier_count</th>\n",
       "      <th>null_count</th>\n",
       "    </tr>\n",
       "  </thead>\n",
       "  <tbody>\n",
       "    <tr>\n",
       "      <th>carbon_emission</th>\n",
       "      <td>10048</td>\n",
       "      <td>2268.528861464968</td>\n",
       "      <td>1017.426270717533</td>\n",
       "      <td>306</td>\n",
       "      <td>8377</td>\n",
       "      <td>128</td>\n",
       "      <td>0</td>\n",
       "    </tr>\n",
       "    <tr>\n",
       "      <th>body_type</th>\n",
       "      <td>10048</td>\n",
       "      <td>None</td>\n",
       "      <td>None</td>\n",
       "      <td>normal</td>\n",
       "      <td>underweight</td>\n",
       "      <td>None</td>\n",
       "      <td>0</td>\n",
       "    </tr>\n",
       "    <tr>\n",
       "      <th>sex</th>\n",
       "      <td>10048</td>\n",
       "      <td>None</td>\n",
       "      <td>None</td>\n",
       "      <td>female</td>\n",
       "      <td>male</td>\n",
       "      <td>None</td>\n",
       "      <td>0</td>\n",
       "    </tr>\n",
       "    <tr>\n",
       "      <th>diet</th>\n",
       "      <td>10048</td>\n",
       "      <td>None</td>\n",
       "      <td>None</td>\n",
       "      <td>omnivore</td>\n",
       "      <td>vegetarian</td>\n",
       "      <td>None</td>\n",
       "      <td>0</td>\n",
       "    </tr>\n",
       "    <tr>\n",
       "      <th>heating_energy_source</th>\n",
       "      <td>10048</td>\n",
       "      <td>None</td>\n",
       "      <td>None</td>\n",
       "      <td>coal</td>\n",
       "      <td>wood</td>\n",
       "      <td>None</td>\n",
       "      <td>0</td>\n",
       "    </tr>\n",
       "    <tr>\n",
       "      <th>social_activity</th>\n",
       "      <td>10048</td>\n",
       "      <td>None</td>\n",
       "      <td>None</td>\n",
       "      <td>never</td>\n",
       "      <td>sometimes</td>\n",
       "      <td>None</td>\n",
       "      <td>0</td>\n",
       "    </tr>\n",
       "    <tr>\n",
       "      <th>monthly_grocery_bill</th>\n",
       "      <td>10048</td>\n",
       "      <td>173.86664012738854</td>\n",
       "      <td>72.24335229354469</td>\n",
       "      <td>1</td>\n",
       "      <td>299</td>\n",
       "      <td>0</td>\n",
       "      <td>0</td>\n",
       "    </tr>\n",
       "    <tr>\n",
       "      <th>how_many_new_clothes_monthly</th>\n",
       "      <td>10048</td>\n",
       "      <td>25.08857484076433</td>\n",
       "      <td>14.705493348624131</td>\n",
       "      <td>0</td>\n",
       "      <td>50</td>\n",
       "      <td>0</td>\n",
       "      <td>0</td>\n",
       "    </tr>\n",
       "    <tr>\n",
       "      <th>how_long_internet_daily_hour</th>\n",
       "      <td>10048</td>\n",
       "      <td>11.892416401273886</td>\n",
       "      <td>7.277222530916896</td>\n",
       "      <td>0</td>\n",
       "      <td>24</td>\n",
       "      <td>0</td>\n",
       "      <td>0</td>\n",
       "    </tr>\n",
       "    <tr>\n",
       "      <th>transport</th>\n",
       "      <td>10048</td>\n",
       "      <td>None</td>\n",
       "      <td>None</td>\n",
       "      <td>private</td>\n",
       "      <td>walk/bicycle</td>\n",
       "      <td>None</td>\n",
       "      <td>0</td>\n",
       "    </tr>\n",
       "    <tr>\n",
       "      <th>vehicle_type</th>\n",
       "      <td>10048</td>\n",
       "      <td>None</td>\n",
       "      <td>None</td>\n",
       "      <td>diesel</td>\n",
       "      <td>petrol</td>\n",
       "      <td>None</td>\n",
       "      <td>0</td>\n",
       "    </tr>\n",
       "    <tr>\n",
       "      <th>frequency_of_traveling_by_air</th>\n",
       "      <td>10048</td>\n",
       "      <td>None</td>\n",
       "      <td>None</td>\n",
       "      <td>frequently</td>\n",
       "      <td>very frequently</td>\n",
       "      <td>None</td>\n",
       "      <td>0</td>\n",
       "    </tr>\n",
       "    <tr>\n",
       "      <th>vehicle_monthly_distance_km</th>\n",
       "      <td>10048</td>\n",
       "      <td>2032.6978503184714</td>\n",
       "      <td>2769.9521986683626</td>\n",
       "      <td>0</td>\n",
       "      <td>9999</td>\n",
       "      <td>0</td>\n",
       "      <td>0</td>\n",
       "    </tr>\n",
       "    <tr>\n",
       "      <th>waste_bag_size</th>\n",
       "      <td>10048</td>\n",
       "      <td>None</td>\n",
       "      <td>None</td>\n",
       "      <td>extra large</td>\n",
       "      <td>small</td>\n",
       "      <td>None</td>\n",
       "      <td>0</td>\n",
       "    </tr>\n",
       "    <tr>\n",
       "      <th>waste_bag_weekly_count</th>\n",
       "      <td>10048</td>\n",
       "      <td>4.022093949044586</td>\n",
       "      <td>1.9909493418234427</td>\n",
       "      <td>1</td>\n",
       "      <td>7</td>\n",
       "      <td>0</td>\n",
       "      <td>0</td>\n",
       "    </tr>\n",
       "  </tbody>\n",
       "</table>\n",
       "</div>"
      ],
      "text/plain": [
       "summary                        count                mean              stddev  \\\n",
       "carbon_emission                10048   2268.528861464968   1017.426270717533   \n",
       "body_type                      10048                None                None   \n",
       "sex                            10048                None                None   \n",
       "diet                           10048                None                None   \n",
       "heating_energy_source          10048                None                None   \n",
       "social_activity                10048                None                None   \n",
       "monthly_grocery_bill           10048  173.86664012738854   72.24335229354469   \n",
       "how_many_new_clothes_monthly   10048   25.08857484076433  14.705493348624131   \n",
       "how_long_internet_daily_hour   10048  11.892416401273886   7.277222530916896   \n",
       "transport                      10048                None                None   \n",
       "vehicle_type                   10048                None                None   \n",
       "frequency_of_traveling_by_air  10048                None                None   \n",
       "vehicle_monthly_distance_km    10048  2032.6978503184714  2769.9521986683626   \n",
       "waste_bag_size                 10048                None                None   \n",
       "waste_bag_weekly_count         10048   4.022093949044586  1.9909493418234427   \n",
       "\n",
       "summary                                min              max outlier_count  \\\n",
       "carbon_emission                        306             8377           128   \n",
       "body_type                           normal      underweight          None   \n",
       "sex                                 female             male          None   \n",
       "diet                              omnivore       vegetarian          None   \n",
       "heating_energy_source                 coal             wood          None   \n",
       "social_activity                      never        sometimes          None   \n",
       "monthly_grocery_bill                     1              299             0   \n",
       "how_many_new_clothes_monthly             0               50             0   \n",
       "how_long_internet_daily_hour             0               24             0   \n",
       "transport                          private     walk/bicycle          None   \n",
       "vehicle_type                        diesel           petrol          None   \n",
       "frequency_of_traveling_by_air   frequently  very frequently          None   \n",
       "vehicle_monthly_distance_km              0             9999             0   \n",
       "waste_bag_size                 extra large            small          None   \n",
       "waste_bag_weekly_count                   1                7             0   \n",
       "\n",
       "summary                        null_count  \n",
       "carbon_emission                         0  \n",
       "body_type                               0  \n",
       "sex                                     0  \n",
       "diet                                    0  \n",
       "heating_energy_source                   0  \n",
       "social_activity                         0  \n",
       "monthly_grocery_bill                    0  \n",
       "how_many_new_clothes_monthly            0  \n",
       "how_long_internet_daily_hour            0  \n",
       "transport                               0  \n",
       "vehicle_type                            0  \n",
       "frequency_of_traveling_by_air           0  \n",
       "vehicle_monthly_distance_km             0  \n",
       "waste_bag_size                          0  \n",
       "waste_bag_weekly_count                  0  "
      ]
     },
     "execution_count": 16,
     "metadata": {},
     "output_type": "execute_result"
    }
   ],
   "source": [
    "describe_dataframe_details(df=df, spark=spark)"
   ]
  },
  {
   "cell_type": "code",
   "execution_count": 17,
   "id": "ff4e067fa15de321",
   "metadata": {
    "ExecuteTime": {
     "end_time": "2024-05-22T05:43:08.228760Z",
     "start_time": "2024-05-22T05:43:03.681661Z"
    }
   },
   "outputs": [
    {
     "name": "stdout",
     "output_type": "stream",
     "text": [
      "+---------------+-----------+------+-----------+---------------------+---------------+--------------------+----------------------------+----------------------------+------------------------------+-----------------------------------+------------+--------------+-----------------------------+---------------------------+--------------+----------------------+\n",
      "|carbon_emission|body_type  |sex   |diet       |heating_energy_source|social_activity|monthly_grocery_bill|how_many_new_clothes_monthly|how_long_internet_daily_hour|recycling                     |cooking_with                       |transport   |vehicle_type  |frequency_of_traveling_by_air|vehicle_monthly_distance_km|waste_bag_size|waste_bag_weekly_count|\n",
      "+---------------+-----------+------+-----------+---------------------+---------------+--------------------+----------------------------+----------------------------+------------------------------+-----------------------------------+------------+--------------+-----------------------------+---------------------------+--------------+----------------------+\n",
      "|1991           |underweight|female|vegan      |electricity          |often          |259                 |50                          |23                          |[Metal]                       |[Oven, Grill, Airfryer]            |public      |not_applicable|frequently                   |558                        |large         |4                     |\n",
      "|1561           |underweight|female|omnivore   |electricity          |never          |258                 |44                          |4                           |[Glass, Metal]                |[Oven, Microwave, Grill, Airfryer] |public      |not_applicable|frequently                   |1028                       |small         |2                     |\n",
      "|2698           |underweight|male  |vegan      |electricity          |sometimes      |90                  |1                           |5                           |[Metal]                       |[Stove, Microwave]                 |public      |not_applicable|very frequently              |1601                       |extra large   |7                     |\n",
      "|1878           |obese      |male  |vegetarian |coal                 |never          |100                 |26                          |6                           |[Plastic, Glass]              |[Stove, Oven, Grill, Airfryer]     |public      |not_applicable|never                        |201                        |medium        |3                     |\n",
      "|2474           |overweight |male  |pescatarian|electricity          |never          |276                 |8                           |0                           |[Paper, Glass, Metal]         |[Stove, Oven, Microwave]           |private     |electric      |very frequently              |2171                       |medium        |7                     |\n",
      "|1624           |overweight |male  |pescatarian|coal                 |never          |184                 |14                          |11                          |[Glass, Metal]                |[Microwave, Grill, Airfryer]       |walk/bicycle|not_applicable|never                        |88                         |medium        |7                     |\n",
      "|1782           |underweight|male  |omnivore   |wood                 |often          |158                 |7                           |20                          |[Paper, Glass, Metal]         |[Stove, Oven, Grill, Airfryer]     |public      |not_applicable|frequently                   |753                        |medium        |4                     |\n",
      "|4926           |underweight|male  |vegetarian |coal                 |never          |125                 |35                          |8                           |[Paper, Plastic, Metal]       |[Stove, Oven]                      |private     |petrol        |frequently                   |5876                       |extra large   |7                     |\n",
      "|1283           |normal     |female|omnivore   |coal                 |often          |76                  |15                          |7                           |[Glass, Metal]                |[Oven]                             |private     |electric      |rarely                       |3392                       |medium        |4                     |\n",
      "|776            |overweight |female|vegetarian |electricity          |often          |93                  |16                          |7                           |[Paper, Plastic, Metal]       |[]                                 |public      |not_applicable|never                        |1915                       |small         |7                     |\n",
      "|1895           |overweight |female|pescatarian|electricity          |sometimes      |111                 |33                          |14                          |[Plastic]                     |[Stove, Grill, Airfryer]           |private     |electric      |frequently                   |2763                       |small         |7                     |\n",
      "|3791           |overweight |female|omnivore   |wood                 |never          |258                 |26                          |22                          |[Paper, Metal]                |[Stove, Oven]                      |private     |diesel        |very frequently              |3748                       |medium        |7                     |\n",
      "|2009           |overweight |male  |omnivore   |coal                 |often          |259                 |35                          |1                           |[Paper, Plastic]              |[Stove, Microwave, Grill, Airfryer]|walk/bicycle|not_applicable|never                        |18                         |small         |6                     |\n",
      "|3088           |overweight |male  |pescatarian|wood                 |often          |188                 |17                          |20                          |[Glass, Metal]                |[Oven, Microwave]                  |private     |lpg           |very frequently              |1230                       |small         |2                     |\n",
      "|1829           |overweight |male  |omnivore   |wood                 |often          |200                 |23                          |19                          |[Paper, Glass, Metal]         |[Oven, Microwave, Grill, Airfryer] |walk/bicycle|not_applicable|rarely                       |27                         |extra large   |3                     |\n",
      "|990            |overweight |female|omnivore   |electricity          |never          |164                 |24                          |3                           |[Paper, Plastic, Metal]       |[Stove, Oven]                      |walk/bicycle|not_applicable|never                        |3                          |medium        |6                     |\n",
      "|1923           |normal     |female|omnivore   |natural gas          |sometimes      |225                 |3                           |2                           |[Paper, Plastic, Glass, Metal]|[Stove, Oven, Microwave]           |private     |lpg           |never                        |5539                       |small         |2                     |\n",
      "|1662           |overweight |male  |omnivore   |wood                 |never          |247                 |5                           |8                           |[Paper]                       |[Stove, Oven, Microwave]           |walk/bicycle|not_applicable|never                        |22                         |extra large   |4                     |\n",
      "|2766           |obese      |female|vegetarian |coal                 |never          |63                  |49                          |20                          |[Plastic, Glass, Metal]       |[Stove]                            |private     |hybrid        |frequently                   |2881                       |medium        |3                     |\n",
      "|984            |overweight |female|pescatarian|electricity          |never          |244                 |24                          |10                          |[Paper, Plastic, Glass]       |[Stove, Oven]                      |public      |not_applicable|rarely                       |1787                       |small         |2                     |\n",
      "+---------------+-----------+------+-----------+---------------------+---------------+--------------------+----------------------------+----------------------------+------------------------------+-----------------------------------+------------+--------------+-----------------------------+---------------------------+--------------+----------------------+\n",
      "only showing top 20 rows\n",
      "\n"
     ]
    }
   ],
   "source": [
    "df.show(truncate=False)"
   ]
  },
  {
   "cell_type": "code",
   "execution_count": 18,
   "id": "afb76eab91df0248",
   "metadata": {
    "ExecuteTime": {
     "end_time": "2024-05-22T05:43:08.250968Z",
     "start_time": "2024-05-22T05:43:08.230390Z"
    }
   },
   "outputs": [],
   "source": [
    "from pyspark.sql.functions import array_distinct, concat\n",
    "\n",
    "df_union = df.select(array_distinct(concat(df.cooking_with)).alias(\"union_sets\"))"
   ]
  },
  {
   "cell_type": "code",
   "execution_count": 19,
   "id": "f669c33d930fb2fb",
   "metadata": {
    "ExecuteTime": {
     "end_time": "2024-05-22T05:43:09.387452Z",
     "start_time": "2024-05-22T05:43:08.252519Z"
    }
   },
   "outputs": [
    {
     "name": "stdout",
     "output_type": "stream",
     "text": [
      "+-----------------------------------+\n",
      "|union_sets                         |\n",
      "+-----------------------------------+\n",
      "|[Oven, Grill, Airfryer]            |\n",
      "|[Oven, Microwave, Grill, Airfryer] |\n",
      "|[Stove, Microwave]                 |\n",
      "|[Stove, Oven, Grill, Airfryer]     |\n",
      "|[Stove, Oven, Microwave]           |\n",
      "|[Microwave, Grill, Airfryer]       |\n",
      "|[Stove, Oven, Grill, Airfryer]     |\n",
      "|[Stove, Oven]                      |\n",
      "|[Oven]                             |\n",
      "|[]                                 |\n",
      "|[Stove, Grill, Airfryer]           |\n",
      "|[Stove, Oven]                      |\n",
      "|[Stove, Microwave, Grill, Airfryer]|\n",
      "|[Oven, Microwave]                  |\n",
      "|[Oven, Microwave, Grill, Airfryer] |\n",
      "|[Stove, Oven]                      |\n",
      "|[Stove, Oven, Microwave]           |\n",
      "|[Stove, Oven, Microwave]           |\n",
      "|[Stove]                            |\n",
      "|[Stove, Oven]                      |\n",
      "+-----------------------------------+\n",
      "only showing top 20 rows\n",
      "\n"
     ]
    }
   ],
   "source": [
    "df_union.show(truncate=False)"
   ]
  },
  {
   "cell_type": "code",
   "execution_count": 22,
   "id": "3b98a8bb7b56f104",
   "metadata": {
    "ExecuteTime": {
     "end_time": "2024-05-22T05:46:01.014280Z",
     "start_time": "2024-05-22T05:46:01.009633Z"
    }
   },
   "outputs": [],
   "source": [
    "def explode_list_column(df: DataFrame, column_to_explodes: list[str]) -> DataFrame:\n",
    "    for column_to_explode in column_to_explodes:\n",
    "        df_unique_values = (\n",
    "            df.withColumn(\"flattened\", explode(column_to_explode))\n",
    "            .select(\"flattened\")\n",
    "            .distinct()\n",
    "        )\n",
    "        value = [row.flattened for row in df_unique_values.collect()]\n",
    "        for column_name in value:\n",
    "            df = df.withColumn(\n",
    "                f\"{column_to_explode}_{column_name.lower()}\",\n",
    "                array_contains(df[column_to_explode], column_name),\n",
    "            )\n",
    "        df = df.withColumn(f\"{column_to_explode}_count\", size(df[column_to_explode]))\n",
    "    return df"
   ]
  },
  {
   "cell_type": "code",
   "execution_count": 24,
   "id": "de6ad6ab793076b1",
   "metadata": {
    "ExecuteTime": {
     "end_time": "2024-05-22T05:53:32.669218Z",
     "start_time": "2024-05-22T05:53:29.830573Z"
    }
   },
   "outputs": [],
   "source": [
    "df = explode_list_column(df=df, column_to_explodes=[\"recycling\", \"cooking_with\"])"
   ]
  },
  {
   "cell_type": "code",
   "execution_count": 25,
   "id": "410ff9188f410c44",
   "metadata": {
    "ExecuteTime": {
     "end_time": "2024-05-22T05:53:36.965466Z",
     "start_time": "2024-05-22T05:53:33.124548Z"
    }
   },
   "outputs": [
    {
     "name": "stdout",
     "output_type": "stream",
     "text": [
      "+---------------+-----------+------+-----------+---------------------+---------------+--------------------+----------------------------+----------------------------+--------------------+--------------------+------------+--------------+-----------------------------+---------------------------+--------------+----------------------+---------------+---------------+-----------------+---------------+---------------+-----------------+----------------------+---------------------+------------------+------------------+------------------+\n",
      "|carbon_emission|  body_type|   sex|       diet|heating_energy_source|social_activity|monthly_grocery_bill|how_many_new_clothes_monthly|how_long_internet_daily_hour|           recycling|        cooking_with|   transport|  vehicle_type|frequency_of_traveling_by_air|vehicle_monthly_distance_km|waste_bag_size|waste_bag_weekly_count|recycling_metal|recycling_glass|recycling_plastic|recycling_paper|recycling_count|cooking_with_oven|cooking_with_microwave|cooking_with_airfryer|cooking_with_grill|cooking_with_stove|cooking_with_count|\n",
      "+---------------+-----------+------+-----------+---------------------+---------------+--------------------+----------------------------+----------------------------+--------------------+--------------------+------------+--------------+-----------------------------+---------------------------+--------------+----------------------+---------------+---------------+-----------------+---------------+---------------+-----------------+----------------------+---------------------+------------------+------------------+------------------+\n",
      "|           1991|underweight|female|      vegan|          electricity|          often|                 259|                          50|                          23|             [Metal]|[Oven, Grill, Air...|      public|not_applicable|                   frequently|                        558|         large|                     4|           true|          false|            false|          false|              1|             true|                 false|                 true|              true|             false|                 3|\n",
      "|           1561|underweight|female|   omnivore|          electricity|          never|                 258|                          44|                           4|      [Glass, Metal]|[Oven, Microwave,...|      public|not_applicable|                   frequently|                       1028|         small|                     2|           true|           true|            false|          false|              2|             true|                  true|                 true|              true|             false|                 4|\n",
      "|           2698|underweight|  male|      vegan|          electricity|      sometimes|                  90|                           1|                           5|             [Metal]|  [Stove, Microwave]|      public|not_applicable|              very frequently|                       1601|   extra large|                     7|           true|          false|            false|          false|              1|            false|                  true|                false|             false|              true|                 2|\n",
      "|           1878|      obese|  male| vegetarian|                 coal|          never|                 100|                          26|                           6|    [Plastic, Glass]|[Stove, Oven, Gri...|      public|not_applicable|                        never|                        201|        medium|                     3|          false|           true|             true|          false|              2|             true|                 false|                 true|              true|              true|                 4|\n",
      "|           2474| overweight|  male|pescatarian|          electricity|          never|                 276|                           8|                           0|[Paper, Glass, Me...|[Stove, Oven, Mic...|     private|      electric|              very frequently|                       2171|        medium|                     7|           true|           true|            false|           true|              3|             true|                  true|                false|             false|              true|                 3|\n",
      "|           1624| overweight|  male|pescatarian|                 coal|          never|                 184|                          14|                          11|      [Glass, Metal]|[Microwave, Grill...|walk/bicycle|not_applicable|                        never|                         88|        medium|                     7|           true|           true|            false|          false|              2|            false|                  true|                 true|              true|             false|                 3|\n",
      "|           1782|underweight|  male|   omnivore|                 wood|          often|                 158|                           7|                          20|[Paper, Glass, Me...|[Stove, Oven, Gri...|      public|not_applicable|                   frequently|                        753|        medium|                     4|           true|           true|            false|           true|              3|             true|                 false|                 true|              true|              true|                 4|\n",
      "|           4926|underweight|  male| vegetarian|                 coal|          never|                 125|                          35|                           8|[Paper, Plastic, ...|       [Stove, Oven]|     private|        petrol|                   frequently|                       5876|   extra large|                     7|           true|          false|             true|           true|              3|             true|                 false|                false|             false|              true|                 2|\n",
      "|           1283|     normal|female|   omnivore|                 coal|          often|                  76|                          15|                           7|      [Glass, Metal]|              [Oven]|     private|      electric|                       rarely|                       3392|        medium|                     4|           true|           true|            false|          false|              2|             true|                 false|                false|             false|             false|                 1|\n",
      "|            776| overweight|female| vegetarian|          electricity|          often|                  93|                          16|                           7|[Paper, Plastic, ...|                  []|      public|not_applicable|                        never|                       1915|         small|                     7|           true|          false|             true|           true|              3|            false|                 false|                false|             false|             false|                 0|\n",
      "|           1895| overweight|female|pescatarian|          electricity|      sometimes|                 111|                          33|                          14|           [Plastic]|[Stove, Grill, Ai...|     private|      electric|                   frequently|                       2763|         small|                     7|          false|          false|             true|          false|              1|            false|                 false|                 true|              true|              true|                 3|\n",
      "|           3791| overweight|female|   omnivore|                 wood|          never|                 258|                          26|                          22|      [Paper, Metal]|       [Stove, Oven]|     private|        diesel|              very frequently|                       3748|        medium|                     7|           true|          false|            false|           true|              2|             true|                 false|                false|             false|              true|                 2|\n",
      "|           2009| overweight|  male|   omnivore|                 coal|          often|                 259|                          35|                           1|    [Paper, Plastic]|[Stove, Microwave...|walk/bicycle|not_applicable|                        never|                         18|         small|                     6|          false|          false|             true|           true|              2|            false|                  true|                 true|              true|              true|                 4|\n",
      "|           3088| overweight|  male|pescatarian|                 wood|          often|                 188|                          17|                          20|      [Glass, Metal]|   [Oven, Microwave]|     private|           lpg|              very frequently|                       1230|         small|                     2|           true|           true|            false|          false|              2|             true|                  true|                false|             false|             false|                 2|\n",
      "|           1829| overweight|  male|   omnivore|                 wood|          often|                 200|                          23|                          19|[Paper, Glass, Me...|[Oven, Microwave,...|walk/bicycle|not_applicable|                       rarely|                         27|   extra large|                     3|           true|           true|            false|           true|              3|             true|                  true|                 true|              true|             false|                 4|\n",
      "|            990| overweight|female|   omnivore|          electricity|          never|                 164|                          24|                           3|[Paper, Plastic, ...|       [Stove, Oven]|walk/bicycle|not_applicable|                        never|                          3|        medium|                     6|           true|          false|             true|           true|              3|             true|                 false|                false|             false|              true|                 2|\n",
      "|           1923|     normal|female|   omnivore|          natural gas|      sometimes|                 225|                           3|                           2|[Paper, Plastic, ...|[Stove, Oven, Mic...|     private|           lpg|                        never|                       5539|         small|                     2|           true|           true|             true|           true|              4|             true|                  true|                false|             false|              true|                 3|\n",
      "|           1662| overweight|  male|   omnivore|                 wood|          never|                 247|                           5|                           8|             [Paper]|[Stove, Oven, Mic...|walk/bicycle|not_applicable|                        never|                         22|   extra large|                     4|          false|          false|            false|           true|              1|             true|                  true|                false|             false|              true|                 3|\n",
      "|           2766|      obese|female| vegetarian|                 coal|          never|                  63|                          49|                          20|[Plastic, Glass, ...|             [Stove]|     private|        hybrid|                   frequently|                       2881|        medium|                     3|           true|           true|             true|          false|              3|            false|                 false|                false|             false|              true|                 1|\n",
      "|            984| overweight|female|pescatarian|          electricity|          never|                 244|                          24|                          10|[Paper, Plastic, ...|       [Stove, Oven]|      public|not_applicable|                       rarely|                       1787|         small|                     2|          false|           true|             true|           true|              3|             true|                 false|                false|             false|              true|                 2|\n",
      "+---------------+-----------+------+-----------+---------------------+---------------+--------------------+----------------------------+----------------------------+--------------------+--------------------+------------+--------------+-----------------------------+---------------------------+--------------+----------------------+---------------+---------------+-----------------+---------------+---------------+-----------------+----------------------+---------------------+------------------+------------------+------------------+\n",
      "only showing top 20 rows\n",
      "\n"
     ]
    }
   ],
   "source": [
    "df.show()"
   ]
  },
  {
   "cell_type": "code",
   "execution_count": 34,
   "id": "51f344032ebd89b6",
   "metadata": {
    "ExecuteTime": {
     "end_time": "2024-05-22T06:13:01.322759Z",
     "start_time": "2024-05-22T06:13:00.507734Z"
    }
   },
   "outputs": [
    {
     "data": {
      "text/plain": [
       "[131.0, 217.0]"
      ]
     },
     "execution_count": 34,
     "metadata": {},
     "output_type": "execute_result"
    }
   ],
   "source": [
    "df.approxQuantile('monthly_grocery_bill', [0.33, 0.67], 0)"
   ]
  },
  {
   "cell_type": "code",
   "execution_count": 33,
   "id": "bd09912bf2b6de82",
   "metadata": {
    "ExecuteTime": {
     "end_time": "2024-05-22T06:12:48.960137Z",
     "start_time": "2024-05-22T06:12:48.931830Z"
    }
   },
   "outputs": [
    {
     "ename": "TypeError",
     "evalue": "'Column' object is not callable",
     "output_type": "error",
     "traceback": [
      "\u001b[0;31m---------------------------------------------------------------------------\u001b[0m",
      "\u001b[0;31mTypeError\u001b[0m                                 Traceback (most recent call last)",
      "Input \u001b[0;32mIn [33]\u001b[0m, in \u001b[0;36m<cell line: 1>\u001b[0;34m()\u001b[0m\n\u001b[0;32m----> 1\u001b[0m \u001b[43mdf\u001b[49m\u001b[38;5;241;43m.\u001b[39;49m\u001b[43mmonthly_grocery_bill\u001b[49m\u001b[38;5;241;43m.\u001b[39;49m\u001b[43mapproxQuantile\u001b[49m\u001b[43m(\u001b[49m\u001b[38;5;124;43m\"\u001b[39;49m\u001b[38;5;124;43mmonthly_grocery_bill\u001b[39;49m\u001b[38;5;124;43m\"\u001b[39;49m\u001b[43m,\u001b[49m\u001b[43m \u001b[49m\u001b[43m[\u001b[49m\u001b[38;5;241;43m0.33\u001b[39;49m\u001b[43m,\u001b[49m\u001b[43m \u001b[49m\u001b[38;5;241;43m0.67\u001b[39;49m\u001b[43m]\u001b[49m\u001b[43m,\u001b[49m\u001b[43m \u001b[49m\u001b[38;5;241;43m0\u001b[39;49m\u001b[43m)\u001b[49m\n",
      "\u001b[0;31mTypeError\u001b[0m: 'Column' object is not callable"
     ]
    }
   ],
   "source": [
    "df.withColumn()"
   ]
  },
  {
   "cell_type": "code",
   "execution_count": null,
   "id": "82bcef2420838b4d",
   "metadata": {},
   "outputs": [],
   "source": []
  }
 ],
 "metadata": {
  "kernelspec": {
   "display_name": "Python 3",
   "language": "python",
   "name": "python3"
  },
  "language_info": {
   "codemirror_mode": {
    "name": "ipython",
    "version": 2
   },
   "file_extension": ".py",
   "mimetype": "text/x-python",
   "name": "python",
   "nbconvert_exporter": "python",
   "pygments_lexer": "ipython2",
   "version": "2.7.6"
  }
 },
 "nbformat": 4,
 "nbformat_minor": 5
}
