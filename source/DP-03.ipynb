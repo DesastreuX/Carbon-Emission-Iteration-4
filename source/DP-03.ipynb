{
 "cells": [
  {
   "cell_type": "markdown",
   "id": "a5cb3ae1965d1b20",
   "metadata": {},
   "source": [
    "# 03 - DP"
   ]
  },
  {
   "cell_type": "code",
   "execution_count": 1,
   "id": "2231597d96a92de",
   "metadata": {
    "ExecuteTime": {
     "end_time": "2024-05-23T22:59:20.993028Z",
     "start_time": "2024-05-23T22:59:19.427743Z"
    }
   },
   "outputs": [],
   "source": [
    "import ast\n",
    "from copy import deepcopy\n",
    "from functools import reduce\n",
    "\n",
    "import findspark\n",
    "from common.const import DATASET, FILEPATH, STAGING_FILENAME\n",
    "from common.dataframe_utils import array_to_string, string_columns_encoder\n",
    "from common.utils import (change_case, describe_dataframe_details,\n",
    "                          detect_continuous_variables, plot_column_value_count,\n",
    "                          rename_columns)\n",
    "from common.z_score import abs_z_score, z_score\n",
    "from pyspark.sql import DataFrame, SparkSession, Window\n",
    "from pyspark.sql.functions import (array_contains, col, explode, greatest,\n",
    "                                   monotonically_increasing_id, ntile, size,\n",
    "                                   udf, when)\n",
    "from pyspark.sql.types import ArrayType, StringType"
   ]
  },
  {
   "cell_type": "code",
   "execution_count": 2,
   "id": "initial_id",
   "metadata": {
    "ExecuteTime": {
     "end_time": "2024-05-23T22:59:29.001652Z",
     "start_time": "2024-05-23T22:59:20.995746Z"
    },
    "collapsed": true
   },
   "outputs": [
    {
     "name": "stderr",
     "output_type": "stream",
     "text": [
      "WARNING: An illegal reflective access operation has occurred\n",
      "WARNING: Illegal reflective access by org.apache.spark.unsafe.Platform (file:/home/ubuntu/spark-3.2.1-bin-hadoop2.7/jars/spark-unsafe_2.12-3.2.1.jar) to constructor java.nio.DirectByteBuffer(long,int)\n",
      "WARNING: Please consider reporting this to the maintainers of org.apache.spark.unsafe.Platform\n",
      "WARNING: Use --illegal-access=warn to enable warnings of further illegal reflective access operations\n",
      "WARNING: All illegal access operations will be denied in a future release\n",
      "Using Spark's default log4j profile: org/apache/spark/log4j-defaults.properties\n",
      "Setting default log level to \"WARN\".\n",
      "To adjust logging level use sc.setLogLevel(newLevel). For SparkR, use setLogLevel(newLevel).\n",
      "24/05/23 22:59:24 WARN NativeCodeLoader: Unable to load native-hadoop library for your platform... using builtin-java classes where applicable\n",
      "24/05/23 22:59:25 WARN Utils: Service 'SparkUI' could not bind on port 4040. Attempting port 4041.\n",
      "24/05/23 22:59:25 WARN Utils: Service 'SparkUI' could not bind on port 4041. Attempting port 4042.\n",
      "24/05/23 22:59:25 WARN Utils: Service 'SparkUI' could not bind on port 4042. Attempting port 4043.\n"
     ]
    }
   ],
   "source": [
    "findspark.init(\"/home/ubuntu/spark-3.2.1-bin-hadoop2.7\")\n",
    "spark = SparkSession.builder.appName(\"basics\").getOrCreate()"
   ]
  },
  {
   "cell_type": "code",
   "execution_count": 3,
   "id": "adb508c86deae8c6",
   "metadata": {
    "ExecuteTime": {
     "end_time": "2024-05-23T22:59:29.012989Z",
     "start_time": "2024-05-23T22:59:29.005281Z"
    }
   },
   "outputs": [],
   "source": [
    "spark.conf.set(\"spark.sql.repl.eagerEval.enabled\", True)"
   ]
  },
  {
   "cell_type": "markdown",
   "id": "680b453e95c68643",
   "metadata": {},
   "source": [
    "## 3.4 Data Integration"
   ]
  },
  {
   "cell_type": "code",
   "execution_count": 4,
   "id": "8e146a7a9498e740",
   "metadata": {
    "ExecuteTime": {
     "end_time": "2024-05-23T22:59:47.619757Z",
     "start_time": "2024-05-23T22:59:29.018289Z"
    }
   },
   "outputs": [
    {
     "name": "stderr",
     "output_type": "stream",
     "text": [
      "                                                                                \r"
     ]
    },
    {
     "name": "stdout",
     "output_type": "stream",
     "text": [
      "Type: <class 'pyspark.sql.dataframe.DataFrame'> | Shape: (10200, 2) | Columns: ['ID', 'CarbonEmission']\n",
      "Type: <class 'pyspark.sql.dataframe.DataFrame'> | Shape: (10200, 3) | Columns: ['ID', 'Body Type', 'Sex']\n",
      "Type: <class 'pyspark.sql.dataframe.DataFrame'> | Shape: (10200, 12) | Columns: ['ID', 'Diet', 'How Often Shower', 'Heating Energy Source', 'Social Activity', 'Monthly Grocery Bill', 'How Long TV PC Daily Hour', 'How Many New Clothes Monthly', 'How Long Internet Daily Hour', 'Energy efficiency', 'Recycling', 'Cooking_With']\n",
      "Type: <class 'pyspark.sql.dataframe.DataFrame'> | Shape: (10200, 5) | Columns: ['ID', 'Transport', 'Vehicle Type', 'Frequency of Traveling by Air', 'Vehicle Monthly Distance Km']\n",
      "Type: <class 'pyspark.sql.dataframe.DataFrame'> | Shape: (10200, 3) | Columns: ['ID', 'Waste Bag Size', 'Waste Bag Weekly Count']\n"
     ]
    },
    {
     "name": "stderr",
     "output_type": "stream",
     "text": [
      "                                                                                \r"
     ]
    },
    {
     "name": "stdout",
     "output_type": "stream",
     "text": [
      "+---+--------------+-----------+------+-----------+----------------+---------------------+---------------+--------------------+-------------------------+----------------------------+----------------------------+-----------------+--------------------+--------------------+------------+------------+-----------------------------+---------------------------+--------------+----------------------+\n",
      "| ID|CarbonEmission|  Body Type|   Sex|       Diet|How Often Shower|Heating Energy Source|Social Activity|Monthly Grocery Bill|How Long TV PC Daily Hour|How Many New Clothes Monthly|How Long Internet Daily Hour|Energy efficiency|           Recycling|        Cooking_With|   Transport|Vehicle Type|Frequency of Traveling by Air|Vehicle Monthly Distance Km|Waste Bag Size|Waste Bag Weekly Count|\n",
      "+---+--------------+-----------+------+-----------+----------------+---------------------+---------------+--------------------+-------------------------+----------------------------+----------------------------+-----------------+--------------------+--------------------+------------+------------+-----------------------------+---------------------------+--------------+----------------------+\n",
      "|  1|          2238| overweight|female|pescatarian|           daily|                 coal|          often|                 230|                        7|                          26|                           1|               No|           ['Metal']|   ['Stove', 'Oven']|      public|        null|                   frequently|                        210|         large|                     4|\n",
      "|  2|          1892|      obese|female| vegetarian| less frequently|          natural gas|          often|                 114|                        9|                          38|                           5|               No|           ['Metal']|['Stove', 'Microw...|walk/bicycle|        null|                       rarely|                          9|   extra large|                     3|\n",
      "|  3|          2595| overweight|  male|   omnivore| more frequently|                 wood|          never|                 138|                       14|                          47|                           6|        Sometimes|           ['Metal']|['Oven', 'Microwa...|     private|      petrol|                        never|                       2472|         small|                     1|\n",
      "|  4|          1074| overweight|  male|   omnivore|     twice a day|                 wood|      sometimes|                 157|                       20|                           5|                           7|        Sometimes|['Paper', 'Plasti...|['Microwave', 'Gr...|walk/bicycle|        null|                       rarely|                         74|        medium|                     3|\n",
      "|  5|          4743|      obese|female| vegetarian|           daily|                 coal|          often|                 266|                        3|                           5|                           6|              Yes|           ['Paper']|            ['Oven']|     private|      diesel|              very frequently|                       8457|         large|                     1|\n",
      "|  6|          1647| overweight|  male| vegetarian| less frequently|                 wood|      sometimes|                 144|                       22|                          18|                           9|        Sometimes|['Paper', 'Glass'...|['Stove', 'Oven',...|      public|        null|                   frequently|                        658|         large|                     1|\n",
      "|  7|          1832|underweight|female|      vegan| less frequently|                 wood|          never|                  56|                        9|                          11|                          19|        Sometimes|                  []|['Grill', 'Airfry...|     private|      hybrid|                       rarely|                       5363|        medium|                     4|\n",
      "|  8|          2322|underweight|female|      vegan| more frequently|                 coal|      sometimes|                  59|                        5|                          39|                          15|               No|['Paper', 'Plasti...|['Stove', 'Microw...|walk/bicycle|        null|              very frequently|                         54|   extra large|                     3|\n",
      "|  9|          2494| overweight|  male|   omnivore|           daily|                 wood|          never|                 200|                        3|                          31|                          15|              Yes|           ['Glass']|['Microwave', 'Gr...|      public|        null|                   frequently|                       1376|        medium|                     3|\n",
      "| 10|          1178|underweight|female|pescatarian|           daily|                 wood|          often|                 135|                        8|                          23|                          18|        Sometimes|           ['Glass']|['Microwave', 'Gr...|      public|        null|                       rarely|                        440|   extra large|                     1|\n",
      "| 11|          1427|     normal|female| vegetarian| more frequently|                 wood|          never|                 146|                       12|                          27|                          21|               No|['Paper', 'Plastic']|['Stove', 'Microw...|      public|        null|                        never|                       1561|   extra large|                     4|\n",
      "| 12|          3226|      obese|  male| vegetarian| more frequently|                 coal|          never|                 111|                        9|                           4|                           4|        Sometimes|                  []|['Stove', 'Oven',...|walk/bicycle|        null|              very frequently|                         69|        medium|                     5|\n",
      "| 13|          1593|underweight|female|   omnivore|     twice a day|                 coal|          often|                 114|                       18|                          27|                           4|              Yes|         ['Plastic']|           ['Stove']|walk/bicycle|        null|                       rarely|                         92|         large|                     3|\n",
      "| 14|          1732|underweight|female|      vegan| less frequently|          electricity|      sometimes|                 111|                       13|                          16|                          10|        Sometimes|['Plastic', 'Glas...|['Stove', 'Oven',...|     private|         lpg|                       rarely|                       2893|         large|                     6|\n",
      "| 15|          1743|      obese|  male|pescatarian| less frequently|          natural gas|          often|                 123|                       13|                          23|                           8|               No|['Paper', 'Plasti...|   ['Stove', 'Oven']|      public|        null|                       rarely|                       1989|         small|                     6|\n",
      "| 16|          2101| overweight|female| vegetarian| less frequently|          electricity|          never|                 225|                        9|                          24|                          15|               No|['Paper', 'Plasti...|   ['Stove', 'Oven']|      public|        null|              very frequently|                        692|         small|                     6|\n",
      "| 17|          2609|     normal|  male|pescatarian| more frequently|          electricity|          often|                 219|                       23|                          42|                          14|        Sometimes|                  []|['Oven', 'Microwa...|walk/bicycle|        null|                   frequently|                          7|   extra large|                     4|\n",
      "| 18|          1565| overweight|female|pescatarian|           daily|                 wood|          often|                 104|                        1|                           6|                          22|              Yes|           ['Paper']|['Stove', 'Grill'...|      public|        null|                       rarely|                        948|         large|                     6|\n",
      "| 19|          5272|underweight|  male|      vegan| more frequently|          electricity|          often|                 126|                        6|                          37|                           9|        Sometimes|                  []|           ['Stove']|     private|      petrol|              very frequently|                       7622|        medium|                     2|\n",
      "| 20|          1220|     normal|female|   omnivore| more frequently|                 wood|          often|                 288|                       15|                          22|                           6|               No|['Paper', 'Glass'...|   ['Stove', 'Oven']|walk/bicycle|        null|                        never|                         51|         small|                     4|\n",
      "+---+--------------+-----------+------+-----------+----------------+---------------------+---------------+--------------------+-------------------------+----------------------------+----------------------------+-----------------+--------------------+--------------------+------------+------------+-----------------------------+---------------------------+--------------+----------------------+\n",
      "only showing top 20 rows\n",
      "\n"
     ]
    }
   ],
   "source": [
    "filepath_list = [\n",
    "    FILEPATH.CARBON_EMISSION_AMOUNT,\n",
    "    FILEPATH.CARBON_EMISSION_HEALTH,\n",
    "    FILEPATH.CARBON_EMISSION_LIFESTYLE,\n",
    "    FILEPATH.CARBON_EMISSION_TRAVEL,\n",
    "    FILEPATH.CARBON_EMISSION_WASTE,\n",
    "]\n",
    "df_list = [\n",
    "    spark.read.csv(filepath, header=True, inferSchema=True)\n",
    "    for filepath in filepath_list\n",
    "]\n",
    "for df in df_list:\n",
    "    print(\n",
    "        f\"Type: {type(df)} | Shape: ({df.count()}, {len(df.columns)}) | Columns: {df.columns}\"\n",
    "    )\n",
    "df_id = reduce(lambda x, y: x.join(y, on=\"ID\", how=\"outer\"), df_list)\n",
    "df_id.show()"
   ]
  },
  {
   "cell_type": "code",
   "execution_count": 5,
   "id": "83af30490492ccf2",
   "metadata": {
    "ExecuteTime": {
     "end_time": "2024-05-23T22:59:50.673832Z",
     "start_time": "2024-05-23T22:59:47.628366Z"
    }
   },
   "outputs": [
    {
     "name": "stderr",
     "output_type": "stream",
     "text": [
      "[Stage 56:>                 (0 + 1) / 1][Stage 58:>                 (0 + 1) / 1]\r"
     ]
    },
    {
     "name": "stdout",
     "output_type": "stream",
     "text": [
      "+--------------+-----------+------+-----------+----------------+---------------------+---------------+--------------------+-------------------------+----------------------------+----------------------------+-----------------+--------------------+--------------------+------------+------------+-----------------------------+---------------------------+--------------+----------------------+\n",
      "|CarbonEmission|  Body Type|   Sex|       Diet|How Often Shower|Heating Energy Source|Social Activity|Monthly Grocery Bill|How Long TV PC Daily Hour|How Many New Clothes Monthly|How Long Internet Daily Hour|Energy efficiency|           Recycling|        Cooking_With|   Transport|Vehicle Type|Frequency of Traveling by Air|Vehicle Monthly Distance Km|Waste Bag Size|Waste Bag Weekly Count|\n",
      "+--------------+-----------+------+-----------+----------------+---------------------+---------------+--------------------+-------------------------+----------------------------+----------------------------+-----------------+--------------------+--------------------+------------+------------+-----------------------------+---------------------------+--------------+----------------------+\n",
      "|          2238| overweight|female|pescatarian|           daily|                 coal|          often|                 230|                        7|                          26|                           1|               No|           ['Metal']|   ['Stove', 'Oven']|      public|        null|                   frequently|                        210|         large|                     4|\n",
      "|          1892|      obese|female| vegetarian| less frequently|          natural gas|          often|                 114|                        9|                          38|                           5|               No|           ['Metal']|['Stove', 'Microw...|walk/bicycle|        null|                       rarely|                          9|   extra large|                     3|\n",
      "|          2595| overweight|  male|   omnivore| more frequently|                 wood|          never|                 138|                       14|                          47|                           6|        Sometimes|           ['Metal']|['Oven', 'Microwa...|     private|      petrol|                        never|                       2472|         small|                     1|\n",
      "|          1074| overweight|  male|   omnivore|     twice a day|                 wood|      sometimes|                 157|                       20|                           5|                           7|        Sometimes|['Paper', 'Plasti...|['Microwave', 'Gr...|walk/bicycle|        null|                       rarely|                         74|        medium|                     3|\n",
      "|          4743|      obese|female| vegetarian|           daily|                 coal|          often|                 266|                        3|                           5|                           6|              Yes|           ['Paper']|            ['Oven']|     private|      diesel|              very frequently|                       8457|         large|                     1|\n",
      "|          1647| overweight|  male| vegetarian| less frequently|                 wood|      sometimes|                 144|                       22|                          18|                           9|        Sometimes|['Paper', 'Glass'...|['Stove', 'Oven',...|      public|        null|                   frequently|                        658|         large|                     1|\n",
      "|          1832|underweight|female|      vegan| less frequently|                 wood|          never|                  56|                        9|                          11|                          19|        Sometimes|                  []|['Grill', 'Airfry...|     private|      hybrid|                       rarely|                       5363|        medium|                     4|\n",
      "|          2322|underweight|female|      vegan| more frequently|                 coal|      sometimes|                  59|                        5|                          39|                          15|               No|['Paper', 'Plasti...|['Stove', 'Microw...|walk/bicycle|        null|              very frequently|                         54|   extra large|                     3|\n",
      "|          2494| overweight|  male|   omnivore|           daily|                 wood|          never|                 200|                        3|                          31|                          15|              Yes|           ['Glass']|['Microwave', 'Gr...|      public|        null|                   frequently|                       1376|        medium|                     3|\n",
      "|          1178|underweight|female|pescatarian|           daily|                 wood|          often|                 135|                        8|                          23|                          18|        Sometimes|           ['Glass']|['Microwave', 'Gr...|      public|        null|                       rarely|                        440|   extra large|                     1|\n",
      "|          1427|     normal|female| vegetarian| more frequently|                 wood|          never|                 146|                       12|                          27|                          21|               No|['Paper', 'Plastic']|['Stove', 'Microw...|      public|        null|                        never|                       1561|   extra large|                     4|\n",
      "|          3226|      obese|  male| vegetarian| more frequently|                 coal|          never|                 111|                        9|                           4|                           4|        Sometimes|                  []|['Stove', 'Oven',...|walk/bicycle|        null|              very frequently|                         69|        medium|                     5|\n",
      "|          1593|underweight|female|   omnivore|     twice a day|                 coal|          often|                 114|                       18|                          27|                           4|              Yes|         ['Plastic']|           ['Stove']|walk/bicycle|        null|                       rarely|                         92|         large|                     3|\n",
      "|          1732|underweight|female|      vegan| less frequently|          electricity|      sometimes|                 111|                       13|                          16|                          10|        Sometimes|['Plastic', 'Glas...|['Stove', 'Oven',...|     private|         lpg|                       rarely|                       2893|         large|                     6|\n",
      "|          1743|      obese|  male|pescatarian| less frequently|          natural gas|          often|                 123|                       13|                          23|                           8|               No|['Paper', 'Plasti...|   ['Stove', 'Oven']|      public|        null|                       rarely|                       1989|         small|                     6|\n",
      "|          2101| overweight|female| vegetarian| less frequently|          electricity|          never|                 225|                        9|                          24|                          15|               No|['Paper', 'Plasti...|   ['Stove', 'Oven']|      public|        null|              very frequently|                        692|         small|                     6|\n",
      "|          2609|     normal|  male|pescatarian| more frequently|          electricity|          often|                 219|                       23|                          42|                          14|        Sometimes|                  []|['Oven', 'Microwa...|walk/bicycle|        null|                   frequently|                          7|   extra large|                     4|\n",
      "|          1565| overweight|female|pescatarian|           daily|                 wood|          often|                 104|                        1|                           6|                          22|              Yes|           ['Paper']|['Stove', 'Grill'...|      public|        null|                       rarely|                        948|         large|                     6|\n",
      "|          5272|underweight|  male|      vegan| more frequently|          electricity|          often|                 126|                        6|                          37|                           9|        Sometimes|                  []|           ['Stove']|     private|      petrol|              very frequently|                       7622|        medium|                     2|\n",
      "|          1220|     normal|female|   omnivore| more frequently|                 wood|          often|                 288|                       15|                          22|                           6|               No|['Paper', 'Glass'...|   ['Stove', 'Oven']|walk/bicycle|        null|                        never|                         51|         small|                     4|\n",
      "+--------------+-----------+------+-----------+----------------+---------------------+---------------+--------------------+-------------------------+----------------------------+----------------------------+-----------------+--------------------+--------------------+------------+------------+-----------------------------+---------------------------+--------------+----------------------+\n",
      "only showing top 20 rows\n",
      "\n"
     ]
    },
    {
     "name": "stderr",
     "output_type": "stream",
     "text": [
      "                                                                                \r"
     ]
    }
   ],
   "source": [
    "df = df_id.drop(\"ID\")\n",
    "df.show()"
   ]
  },
  {
   "cell_type": "markdown",
   "id": "1c5637309fffdd05",
   "metadata": {},
   "source": [
    "## 3.1 Data Selection"
   ]
  },
  {
   "cell_type": "code",
   "execution_count": null,
   "id": "71e7a60e318389c8",
   "metadata": {
    "ExecuteTime": {
     "start_time": "2024-05-23T22:59:50.675420Z"
    },
    "jupyter": {
     "is_executing": true
    }
   },
   "outputs": [],
   "source": [
    "df = rename_columns(df=df)"
   ]
  },
  {
   "cell_type": "code",
   "execution_count": null,
   "id": "61a9a1e5b1735002",
   "metadata": {
    "jupyter": {
     "is_executing": true
    }
   },
   "outputs": [],
   "source": [
    "df = df.drop(\n",
    "    \"energy_efficiency\",\n",
    "    \"how_long_t_v_p_c_daily_hour\",\n",
    "    \"how_often_shower\",\n",
    ")"
   ]
  },
  {
   "cell_type": "code",
   "execution_count": null,
   "id": "8f83ca3cf023265",
   "metadata": {
    "jupyter": {
     "is_executing": true
    }
   },
   "outputs": [],
   "source": [
    "df.show()"
   ]
  },
  {
   "cell_type": "markdown",
   "id": "63c8f99eb3f7b9b2",
   "metadata": {},
   "source": [
    "## 3.2 Data Cleaning"
   ]
  },
  {
   "cell_type": "code",
   "execution_count": null,
   "id": "5c433bfacfa87ad",
   "metadata": {
    "jupyter": {
     "is_executing": true
    }
   },
   "outputs": [],
   "source": [
    "df = df.na.fill(\n",
    "    \"not_applicable\",\n",
    "    subset=[\"vehicle_type\"],\n",
    ").na.drop()"
   ]
  },
  {
   "cell_type": "code",
   "execution_count": null,
   "id": "97b2f3a7f9ac193f",
   "metadata": {
    "jupyter": {
     "is_executing": true
    }
   },
   "outputs": [],
   "source": [
    "describe_dataframe_details(df=df, spark=spark)"
   ]
  },
  {
   "cell_type": "code",
   "execution_count": null,
   "id": "4a17fea6224960e9",
   "metadata": {
    "jupyter": {
     "is_executing": true
    }
   },
   "outputs": [],
   "source": [
    "def string_to_nested_list(s):\n",
    "    return ast.literal_eval(s)\n",
    "\n",
    "\n",
    "# Define the UDF\n",
    "nested_list_udf = udf(string_to_nested_list, ArrayType((StringType())))\n",
    "df = df.withColumn(\"recycling\", nested_list_udf(df.recycling))\n",
    "df = df.withColumn(\"cooking_with\", nested_list_udf(df.cooking_with))\n",
    "df.show()"
   ]
  },
  {
   "cell_type": "code",
   "execution_count": null,
   "id": "7401130faf640b79",
   "metadata": {
    "jupyter": {
     "is_executing": true
    }
   },
   "outputs": [],
   "source": [
    "inconsistent_values_pair = []\n",
    "for column_name in df.columns:\n",
    "    if df.schema[column_name].dataType == StringType():\n",
    "        distribution_df = df.groupBy(column_name).count()\n",
    "        distribution_df = distribution_df.where(\n",
    "            col(\"count\") / df.count() < 0.005\n",
    "        ).select(column_name)\n",
    "        for row in distribution_df.toLocalIterator():\n",
    "            inconsistent_values_pair.append(\n",
    "                tuple([next(iter(row.asDict())), next(iter(row.asDict().values()))])\n",
    "            )\n",
    "expr = \" and \".join(\n",
    "    f'({value_pair[0]} != \"{value_pair[1]}\")' for value_pair in inconsistent_values_pair\n",
    ")\n",
    "df = df.filter(expr)"
   ]
  },
  {
   "cell_type": "code",
   "execution_count": null,
   "id": "20f66a2d79f1fb7d",
   "metadata": {
    "jupyter": {
     "is_executing": true
    }
   },
   "outputs": [],
   "source": [
    "describe_dataframe_details(df=df, spark=spark)"
   ]
  },
  {
   "cell_type": "code",
   "execution_count": null,
   "id": "11e4a6c071345918",
   "metadata": {
    "jupyter": {
     "is_executing": true
    }
   },
   "outputs": [],
   "source": [
    "continuous_columns = detect_continuous_variables(df)\n",
    "continuous_columns.remove(change_case(DATASET.TARGET))\n",
    "abs_z_df = abs_z_score(df=df, columns=continuous_columns)\n",
    "for column_name in abs_z_df.columns:\n",
    "    abs_z_df = abs_z_df.withColumnRenamed(column_name, column_name + \"_abs_z\")\n",
    "abs_z_df = (\n",
    "    abs_z_df.withColumn(\n",
    "        \"max\", greatest(*[abs_z_df[column_name] for column_name in abs_z_df.columns])\n",
    "    )\n",
    "    .select(\"max\")\n",
    "    .withColumn(\"ID\", monotonically_increasing_id())\n",
    ")\n",
    "df = (\n",
    "    df.withColumn(\"ID\", monotonically_increasing_id())\n",
    "    .join(abs_z_df, on=\"ID\", how=\"inner\")\n",
    "    .drop(\"ID\")\n",
    "    .filter(col(\"max\") <= 3)\n",
    "    .drop(\"max\")\n",
    ")"
   ]
  },
  {
   "cell_type": "code",
   "execution_count": null,
   "id": "848fd15e1caaba53",
   "metadata": {
    "jupyter": {
     "is_executing": true
    }
   },
   "outputs": [],
   "source": [
    "describe_dataframe_details(df=df, spark=spark)"
   ]
  },
  {
   "cell_type": "code",
   "execution_count": null,
   "id": "ff4e067fa15de321",
   "metadata": {
    "jupyter": {
     "is_executing": true
    }
   },
   "outputs": [],
   "source": [
    "df.show(truncate=False)"
   ]
  },
  {
   "cell_type": "markdown",
   "id": "db3da2cb6d20263f",
   "metadata": {},
   "source": [
    "## 3.3 Data Construction"
   ]
  },
  {
   "cell_type": "code",
   "execution_count": null,
   "id": "3b98a8bb7b56f104",
   "metadata": {
    "jupyter": {
     "is_executing": true
    }
   },
   "outputs": [],
   "source": [
    "def explode_list_column(df: DataFrame, column_to_explodes: list[str]) -> DataFrame:\n",
    "    for column_to_explode in column_to_explodes:\n",
    "        df_unique_values = (\n",
    "            df.withColumn(\"flattened\", explode(column_to_explode))\n",
    "            .select(\"flattened\")\n",
    "            .distinct()\n",
    "        )\n",
    "        value = [row.flattened for row in df_unique_values.collect()]\n",
    "        for column_name in value:\n",
    "            df = df.withColumn(\n",
    "                f\"{column_to_explode}_{column_name.lower()}\",\n",
    "                array_contains(df[column_to_explode], column_name),\n",
    "            )\n",
    "            df = df.withColumn(\n",
    "                f\"{column_to_explode}_{column_name.lower()}\",\n",
    "                when(\n",
    "                    df[f\"{column_to_explode}_{column_name.lower()}\"] == True, 1\n",
    "                ).otherwise(0),\n",
    "            )\n",
    "        df = df.withColumn(f\"{column_to_explode}_count\", size(df[column_to_explode]))\n",
    "    return df"
   ]
  },
  {
   "cell_type": "code",
   "execution_count": null,
   "id": "de6ad6ab793076b1",
   "metadata": {
    "jupyter": {
     "is_executing": true
    }
   },
   "outputs": [],
   "source": [
    "df = explode_list_column(df=df, column_to_explodes=[\"recycling\", \"cooking_with\"])"
   ]
  },
  {
   "cell_type": "code",
   "execution_count": null,
   "id": "410ff9188f410c44",
   "metadata": {
    "jupyter": {
     "is_executing": true
    }
   },
   "outputs": [],
   "source": [
    "df.show()"
   ]
  },
  {
   "cell_type": "code",
   "execution_count": null,
   "id": "42443f31a85c1a12",
   "metadata": {
    "jupyter": {
     "is_executing": true
    }
   },
   "outputs": [],
   "source": [
    "windowSpec = Window.orderBy(\"monthly_grocery_bill\")\n",
    "df = df.withColumn(\"monthly_grocery_bill_quantile\", ntile(3).over(windowSpec))"
   ]
  },
  {
   "cell_type": "code",
   "execution_count": null,
   "id": "51f344032ebd89b6",
   "metadata": {
    "jupyter": {
     "is_executing": true
    }
   },
   "outputs": [],
   "source": [
    "df.show()"
   ]
  },
  {
   "cell_type": "code",
   "execution_count": null,
   "id": "bd09912bf2b6de82",
   "metadata": {
    "jupyter": {
     "is_executing": true
    }
   },
   "outputs": [],
   "source": [
    "plot_column_value_count(df=df, column_name=\"monthly_grocery_bill_quantile\")"
   ]
  },
  {
   "cell_type": "code",
   "execution_count": null,
   "id": "9058547466eb6a79",
   "metadata": {
    "jupyter": {
     "is_executing": true
    }
   },
   "outputs": [],
   "source": [
    "encoded_df = array_to_string(df=df)"
   ]
  },
  {
   "cell_type": "code",
   "execution_count": null,
   "id": "8140a2f4e900fd8",
   "metadata": {
    "jupyter": {
     "is_executing": true
    }
   },
   "outputs": [],
   "source": [
    "encoded_df = string_columns_encoder(df=encoded_df)"
   ]
  },
  {
   "cell_type": "code",
   "execution_count": null,
   "id": "7c84d31ce98d9f09",
   "metadata": {
    "jupyter": {
     "is_executing": true
    }
   },
   "outputs": [],
   "source": [
    "encoded_df.show()"
   ]
  },
  {
   "cell_type": "code",
   "execution_count": null,
   "id": "bfd66c15c978e629",
   "metadata": {
    "jupyter": {
     "is_executing": true
    }
   },
   "outputs": [],
   "source": [
    "continuous_columns = [\n",
    "    \"monthly_grocery_bill\",\n",
    "    \"vehicle_monthly_distance_km\",\n",
    "    \"waste_bag_weekly_count\",\n",
    "    \"how_many_new_clothes_monthly\",\n",
    "    \"how_long_internet_daily_hour\",\n",
    "]\n",
    "encoded_df_with_z = encoded_df.withColumn(\"id\", monotonically_increasing_id())\n",
    "z_score_df = z_score(df=encoded_df_with_z, columns=deepcopy(continuous_columns))\n",
    "encoded_df_with_z = encoded_df_with_z.drop(*continuous_columns)\n",
    "encoded_df_with_z = encoded_df_with_z.join(z_score_df, on=\"id\", how=\"inner\").drop(\"id\")\n",
    "encoded_df_with_z.show()"
   ]
  },
  {
   "cell_type": "code",
   "execution_count": null,
   "id": "49ed88224d5c417b",
   "metadata": {
    "jupyter": {
     "is_executing": true
    }
   },
   "outputs": [],
   "source": [
    "info_table = describe_dataframe_details(spark=spark, df=encoded_df_with_z)\n",
    "info_table"
   ]
  },
  {
   "cell_type": "markdown",
   "id": "fbf1a063bc6b6901",
   "metadata": {},
   "source": [
    "## Write Data "
   ]
  },
  {
   "cell_type": "code",
   "execution_count": null,
   "id": "557a0db0de682763",
   "metadata": {
    "jupyter": {
     "is_executing": true
    }
   },
   "outputs": [],
   "source": [
    "encoded_df_with_z.repartition(2).write.mode(\"overwrite\").parquet(\n",
    "    f\"{FILEPATH.TEMP_STAGING_PATH}/{STAGING_FILENAME.DP}.parquet\"\n",
    ")"
   ]
  },
  {
   "cell_type": "code",
   "execution_count": null,
   "id": "82805d5c6e2112ff",
   "metadata": {
    "jupyter": {
     "is_executing": true
    }
   },
   "outputs": [],
   "source": []
  }
 ],
 "metadata": {
  "kernelspec": {
   "display_name": "Python 3",
   "language": "python",
   "name": "python3"
  },
  "language_info": {
   "codemirror_mode": {
    "name": "ipython",
    "version": 2
   },
   "file_extension": ".py",
   "mimetype": "text/x-python",
   "name": "python",
   "nbconvert_exporter": "python",
   "pygments_lexer": "ipython2",
   "version": "2.7.6"
  }
 },
 "nbformat": 4,
 "nbformat_minor": 5
}
