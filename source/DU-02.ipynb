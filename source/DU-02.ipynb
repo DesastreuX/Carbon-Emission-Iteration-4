{
 "cells": [
  {
   "cell_type": "code",
   "execution_count": 1,
   "id": "441806ad0db90599",
   "metadata": {
    "ExecuteTime": {
     "end_time": "2024-05-21T00:17:10.851983Z",
     "start_time": "2024-05-21T00:17:10.419751Z"
    }
   },
   "outputs": [],
   "source": [
    "from common.const import FILEPATH\n",
    "from common.utils import describe_dataframe_details, rename_columns"
   ]
  },
  {
   "cell_type": "code",
   "execution_count": 2,
   "id": "initial_id",
   "metadata": {
    "ExecuteTime": {
     "end_time": "2024-05-21T00:17:19.533072Z",
     "start_time": "2024-05-21T00:17:10.854199Z"
    },
    "collapsed": true
   },
   "outputs": [
    {
     "name": "stderr",
     "output_type": "stream",
     "text": [
      "WARNING: An illegal reflective access operation has occurred\n",
      "WARNING: Illegal reflective access by org.apache.spark.unsafe.Platform (file:/home/ubuntu/spark-3.2.1-bin-hadoop2.7/jars/spark-unsafe_2.12-3.2.1.jar) to constructor java.nio.DirectByteBuffer(long,int)\n",
      "WARNING: Please consider reporting this to the maintainers of org.apache.spark.unsafe.Platform\n",
      "WARNING: Use --illegal-access=warn to enable warnings of further illegal reflective access operations\n",
      "WARNING: All illegal access operations will be denied in a future release\n",
      "Using Spark's default log4j profile: org/apache/spark/log4j-defaults.properties\n",
      "Setting default log level to \"WARN\".\n",
      "To adjust logging level use sc.setLogLevel(newLevel). For SparkR, use setLogLevel(newLevel).\n",
      "24/05/21 00:17:14 WARN NativeCodeLoader: Unable to load native-hadoop library for your platform... using builtin-java classes where applicable\n"
     ]
    }
   ],
   "source": [
    "import findspark\n",
    "findspark.init('/home/ubuntu/spark-3.2.1-bin-hadoop2.7')\n",
    "from pyspark.sql import SparkSession\n",
    "spark = SparkSession.builder.appName('basics').getOrCreate()"
   ]
  },
  {
   "cell_type": "code",
   "execution_count": 3,
   "id": "17b493977f18e8f1",
   "metadata": {
    "ExecuteTime": {
     "end_time": "2024-05-21T00:17:27.620095Z",
     "start_time": "2024-05-21T00:17:19.535461Z"
    }
   },
   "outputs": [
    {
     "name": "stderr",
     "output_type": "stream",
     "text": [
      "                                                                                \r"
     ]
    }
   ],
   "source": [
    "df = spark.read.csv(FILEPATH.RAW, header=True, inferSchema =True)"
   ]
  },
  {
   "cell_type": "code",
   "execution_count": 4,
   "id": "15dd945051df2bf8",
   "metadata": {
    "ExecuteTime": {
     "end_time": "2024-05-21T00:17:28.580977Z",
     "start_time": "2024-05-21T00:17:27.624164Z"
    }
   },
   "outputs": [
    {
     "name": "stdout",
     "output_type": "stream",
     "text": [
      "+-----------+------+-----------+----------------+---------------------+------------+------------+---------------+--------------------+-----------------------------+---------------------------+--------------+----------------------+-------------------------+----------------------------+----------------------------+-----------------+--------------------+--------------------+--------------+\n",
      "|  Body Type|   Sex|       Diet|How Often Shower|Heating Energy Source|   Transport|Vehicle Type|Social Activity|Monthly Grocery Bill|Frequency of Traveling by Air|Vehicle Monthly Distance Km|Waste Bag Size|Waste Bag Weekly Count|How Long TV PC Daily Hour|How Many New Clothes Monthly|How Long Internet Daily Hour|Energy efficiency|           Recycling|        Cooking_With|CarbonEmission|\n",
      "+-----------+------+-----------+----------------+---------------------+------------+------------+---------------+--------------------+-----------------------------+---------------------------+--------------+----------------------+-------------------------+----------------------------+----------------------------+-----------------+--------------------+--------------------+--------------+\n",
      "| overweight|female|pescatarian|           daily|                 coal|      public|        null|          often|                 230|                   frequently|                        210|         large|                     4|                        7|                          26|                           1|               No|           ['Metal']|   ['Stove', 'Oven']|          2238|\n",
      "|      obese|female| vegetarian| less frequently|          natural gas|walk/bicycle|        null|          often|                 114|                       rarely|                          9|   extra large|                     3|                        9|                          38|                           5|               No|           ['Metal']|['Stove', 'Microw...|          1892|\n",
      "| overweight|  male|   omnivore| more frequently|                 wood|     private|      petrol|          never|                 138|                        never|                       2472|         small|                     1|                       14|                          47|                           6|        Sometimes|           ['Metal']|['Oven', 'Microwa...|          2595|\n",
      "| overweight|  male|   omnivore|     twice a day|                 wood|walk/bicycle|        null|      sometimes|                 157|                       rarely|                         74|        medium|                     3|                       20|                           5|                           7|        Sometimes|['Paper', 'Plasti...|['Microwave', 'Gr...|          1074|\n",
      "|      obese|female| vegetarian|           daily|                 coal|     private|      diesel|          often|                 266|              very frequently|                       8457|         large|                     1|                        3|                           5|                           6|              Yes|           ['Paper']|            ['Oven']|          4743|\n",
      "| overweight|  male| vegetarian| less frequently|                 wood|      public|        null|      sometimes|                 144|                   frequently|                        658|         large|                     1|                       22|                          18|                           9|        Sometimes|['Paper', 'Glass'...|['Stove', 'Oven',...|          1647|\n",
      "|underweight|female|      vegan| less frequently|                 wood|     private|      hybrid|          never|                  56|                       rarely|                       5363|        medium|                     4|                        9|                          11|                          19|        Sometimes|                  []|['Grill', 'Airfry...|          1832|\n",
      "|underweight|female|      vegan| more frequently|                 coal|walk/bicycle|        null|      sometimes|                  59|              very frequently|                         54|   extra large|                     3|                        5|                          39|                          15|               No|['Paper', 'Plasti...|['Stove', 'Microw...|          2322|\n",
      "| overweight|  male|   omnivore|           daily|                 wood|      public|        null|          never|                 200|                   frequently|                       1376|        medium|                     3|                        3|                          31|                          15|              Yes|           ['Glass']|['Microwave', 'Gr...|          2494|\n",
      "|underweight|female|pescatarian|           daily|                 wood|      public|        null|          often|                 135|                       rarely|                        440|   extra large|                     1|                        8|                          23|                          18|        Sometimes|           ['Glass']|['Microwave', 'Gr...|          1178|\n",
      "|     normal|female| vegetarian| more frequently|                 wood|      public|        null|          never|                 146|                        never|                       1561|   extra large|                     4|                       12|                          27|                          21|               No|['Paper', 'Plastic']|['Stove', 'Microw...|          1427|\n",
      "|      obese|  male| vegetarian| more frequently|                 coal|walk/bicycle|        null|          never|                 111|              very frequently|                         69|        medium|                     5|                        9|                           4|                           4|        Sometimes|                  []|['Stove', 'Oven',...|          3226|\n",
      "|underweight|female|   omnivore|     twice a day|                 coal|walk/bicycle|        null|          often|                 114|                       rarely|                         92|         large|                     3|                       18|                          27|                           4|              Yes|         ['Plastic']|           ['Stove']|          1593|\n",
      "|underweight|female|      vegan| less frequently|          electricity|     private|         lpg|      sometimes|                 111|                       rarely|                       2893|         large|                     6|                       13|                          16|                          10|        Sometimes|['Plastic', 'Glas...|['Stove', 'Oven',...|          1732|\n",
      "|      obese|  male|pescatarian| less frequently|          natural gas|      public|        null|          often|                 123|                       rarely|                       1989|         small|                     6|                       13|                          23|                           8|               No|['Paper', 'Plasti...|   ['Stove', 'Oven']|          1743|\n",
      "| overweight|female| vegetarian| less frequently|          electricity|      public|        null|          never|                 225|              very frequently|                        692|         small|                     6|                        9|                          24|                          15|               No|['Paper', 'Plasti...|   ['Stove', 'Oven']|          2101|\n",
      "|     normal|  male|pescatarian| more frequently|          electricity|walk/bicycle|        null|          often|                 219|                   frequently|                          7|   extra large|                     4|                       23|                          42|                          14|        Sometimes|                  []|['Oven', 'Microwa...|          2609|\n",
      "| overweight|female|pescatarian|           daily|                 wood|      public|        null|          often|                 104|                       rarely|                        948|         large|                     6|                        1|                           6|                          22|              Yes|           ['Paper']|['Stove', 'Grill'...|          1565|\n",
      "|underweight|  male|      vegan| more frequently|          electricity|     private|      petrol|          often|                 126|              very frequently|                       7622|        medium|                     2|                        6|                          37|                           9|        Sometimes|                  []|           ['Stove']|          5272|\n",
      "|     normal|female|   omnivore| more frequently|                 wood|walk/bicycle|        null|          often|                 288|                        never|                         51|         small|                     4|                       15|                          22|                           6|               No|['Paper', 'Glass'...|   ['Stove', 'Oven']|          1220|\n",
      "+-----------+------+-----------+----------------+---------------------+------------+------------+---------------+--------------------+-----------------------------+---------------------------+--------------+----------------------+-------------------------+----------------------------+----------------------------+-----------------+--------------------+--------------------+--------------+\n",
      "only showing top 20 rows\n",
      "\n"
     ]
    }
   ],
   "source": [
    "df.show()"
   ]
  },
  {
   "cell_type": "code",
   "execution_count": 5,
   "id": "474c24b7a9c4024a",
   "metadata": {
    "ExecuteTime": {
     "end_time": "2024-05-21T00:17:28.609414Z",
     "start_time": "2024-05-21T00:17:28.592272Z"
    }
   },
   "outputs": [
    {
     "name": "stdout",
     "output_type": "stream",
     "text": [
      "root\n",
      " |-- Body Type: string (nullable = true)\n",
      " |-- Sex: string (nullable = true)\n",
      " |-- Diet: string (nullable = true)\n",
      " |-- How Often Shower: string (nullable = true)\n",
      " |-- Heating Energy Source: string (nullable = true)\n",
      " |-- Transport: string (nullable = true)\n",
      " |-- Vehicle Type: string (nullable = true)\n",
      " |-- Social Activity: string (nullable = true)\n",
      " |-- Monthly Grocery Bill: integer (nullable = true)\n",
      " |-- Frequency of Traveling by Air: string (nullable = true)\n",
      " |-- Vehicle Monthly Distance Km: integer (nullable = true)\n",
      " |-- Waste Bag Size: string (nullable = true)\n",
      " |-- Waste Bag Weekly Count: integer (nullable = true)\n",
      " |-- How Long TV PC Daily Hour: integer (nullable = true)\n",
      " |-- How Many New Clothes Monthly: integer (nullable = true)\n",
      " |-- How Long Internet Daily Hour: integer (nullable = true)\n",
      " |-- Energy efficiency: string (nullable = true)\n",
      " |-- Recycling: string (nullable = true)\n",
      " |-- Cooking_With: string (nullable = true)\n",
      " |-- CarbonEmission: integer (nullable = true)\n",
      "\n"
     ]
    }
   ],
   "source": [
    "df.printSchema()"
   ]
  },
  {
   "cell_type": "code",
   "execution_count": 6,
   "id": "d4981b825bede0df",
   "metadata": {
    "ExecuteTime": {
     "end_time": "2024-05-21T00:17:43.758070Z",
     "start_time": "2024-05-21T00:17:28.612562Z"
    }
   },
   "outputs": [
    {
     "name": "stderr",
     "output_type": "stream",
     "text": [
      "                                                                                \r"
     ]
    },
    {
     "data": {
      "text/html": [
       "<div>\n",
       "<style scoped>\n",
       "    .dataframe tbody tr th:only-of-type {\n",
       "        vertical-align: middle;\n",
       "    }\n",
       "\n",
       "    .dataframe tbody tr th {\n",
       "        vertical-align: top;\n",
       "    }\n",
       "\n",
       "    .dataframe thead th {\n",
       "        text-align: right;\n",
       "    }\n",
       "</style>\n",
       "<table border=\"1\" class=\"dataframe\">\n",
       "  <thead>\n",
       "    <tr style=\"text-align: right;\">\n",
       "      <th>summary</th>\n",
       "      <th>count</th>\n",
       "      <th>mean</th>\n",
       "      <th>stddev</th>\n",
       "      <th>min</th>\n",
       "      <th>max</th>\n",
       "      <th>outlier_count</th>\n",
       "      <th>null_count</th>\n",
       "    </tr>\n",
       "  </thead>\n",
       "  <tbody>\n",
       "    <tr>\n",
       "      <th>Body Type</th>\n",
       "      <td>10100</td>\n",
       "      <td>None</td>\n",
       "      <td>None</td>\n",
       "      <td>fat</td>\n",
       "      <td>very fat</td>\n",
       "      <td>None</td>\n",
       "      <td>100</td>\n",
       "    </tr>\n",
       "    <tr>\n",
       "      <th>Sex</th>\n",
       "      <td>10200</td>\n",
       "      <td>None</td>\n",
       "      <td>None</td>\n",
       "      <td>f</td>\n",
       "      <td>male</td>\n",
       "      <td>None</td>\n",
       "      <td>0</td>\n",
       "    </tr>\n",
       "    <tr>\n",
       "      <th>Diet</th>\n",
       "      <td>10196</td>\n",
       "      <td>None</td>\n",
       "      <td>None</td>\n",
       "      <td>omnivore</td>\n",
       "      <td>vegetarian</td>\n",
       "      <td>None</td>\n",
       "      <td>4</td>\n",
       "    </tr>\n",
       "    <tr>\n",
       "      <th>How Often Shower</th>\n",
       "      <td>10187</td>\n",
       "      <td>None</td>\n",
       "      <td>None</td>\n",
       "      <td>daily</td>\n",
       "      <td>twice a day</td>\n",
       "      <td>None</td>\n",
       "      <td>13</td>\n",
       "    </tr>\n",
       "    <tr>\n",
       "      <th>Heating Energy Source</th>\n",
       "      <td>10200</td>\n",
       "      <td>None</td>\n",
       "      <td>None</td>\n",
       "      <td>coal</td>\n",
       "      <td>wood</td>\n",
       "      <td>None</td>\n",
       "      <td>0</td>\n",
       "    </tr>\n",
       "    <tr>\n",
       "      <th>Transport</th>\n",
       "      <td>10189</td>\n",
       "      <td>None</td>\n",
       "      <td>None</td>\n",
       "      <td>private</td>\n",
       "      <td>walk/bicycle</td>\n",
       "      <td>None</td>\n",
       "      <td>11</td>\n",
       "    </tr>\n",
       "    <tr>\n",
       "      <th>Vehicle Type</th>\n",
       "      <td>3344</td>\n",
       "      <td>None</td>\n",
       "      <td>None</td>\n",
       "      <td>diesel</td>\n",
       "      <td>petrol</td>\n",
       "      <td>None</td>\n",
       "      <td>6856</td>\n",
       "    </tr>\n",
       "    <tr>\n",
       "      <th>Social Activity</th>\n",
       "      <td>10195</td>\n",
       "      <td>None</td>\n",
       "      <td>None</td>\n",
       "      <td>never</td>\n",
       "      <td>sometimes</td>\n",
       "      <td>None</td>\n",
       "      <td>5</td>\n",
       "    </tr>\n",
       "    <tr>\n",
       "      <th>Monthly Grocery Bill</th>\n",
       "      <td>10200</td>\n",
       "      <td>176.39098039215688</td>\n",
       "      <td>140.2894374654016</td>\n",
       "      <td>1</td>\n",
       "      <td>8000</td>\n",
       "      <td>6</td>\n",
       "      <td>0</td>\n",
       "    </tr>\n",
       "    <tr>\n",
       "      <th>Frequency of Traveling by Air</th>\n",
       "      <td>10200</td>\n",
       "      <td>None</td>\n",
       "      <td>None</td>\n",
       "      <td>frequently</td>\n",
       "      <td>very frequently</td>\n",
       "      <td>None</td>\n",
       "      <td>0</td>\n",
       "    </tr>\n",
       "    <tr>\n",
       "      <th>Vehicle Monthly Distance Km</th>\n",
       "      <td>10195</td>\n",
       "      <td>2072.196076508092</td>\n",
       "      <td>3766.479501354332</td>\n",
       "      <td>0</td>\n",
       "      <td>242356</td>\n",
       "      <td>3</td>\n",
       "      <td>5</td>\n",
       "    </tr>\n",
       "    <tr>\n",
       "      <th>Waste Bag Size</th>\n",
       "      <td>10194</td>\n",
       "      <td>None</td>\n",
       "      <td>None</td>\n",
       "      <td>extra large</td>\n",
       "      <td>small</td>\n",
       "      <td>None</td>\n",
       "      <td>6</td>\n",
       "    </tr>\n",
       "    <tr>\n",
       "      <th>Waste Bag Weekly Count</th>\n",
       "      <td>10200</td>\n",
       "      <td>4.087941176470588</td>\n",
       "      <td>3.4011774889117534</td>\n",
       "      <td>1</td>\n",
       "      <td>233</td>\n",
       "      <td>14</td>\n",
       "      <td>0</td>\n",
       "    </tr>\n",
       "    <tr>\n",
       "      <th>How Long TV PC Daily Hour</th>\n",
       "      <td>10197</td>\n",
       "      <td>12.160243208786898</td>\n",
       "      <td>7.236695985833119</td>\n",
       "      <td>0</td>\n",
       "      <td>97</td>\n",
       "      <td>6</td>\n",
       "      <td>3</td>\n",
       "    </tr>\n",
       "    <tr>\n",
       "      <th>How Many New Clothes Monthly</th>\n",
       "      <td>10195</td>\n",
       "      <td>25.071015203531143</td>\n",
       "      <td>14.708262927063515</td>\n",
       "      <td>0</td>\n",
       "      <td>50</td>\n",
       "      <td>0</td>\n",
       "      <td>5</td>\n",
       "    </tr>\n",
       "    <tr>\n",
       "      <th>How Long Internet Daily Hour</th>\n",
       "      <td>10197</td>\n",
       "      <td>11.94920074531725</td>\n",
       "      <td>7.484505283554303</td>\n",
       "      <td>0</td>\n",
       "      <td>95</td>\n",
       "      <td>8</td>\n",
       "      <td>3</td>\n",
       "    </tr>\n",
       "    <tr>\n",
       "      <th>Energy efficiency</th>\n",
       "      <td>10197</td>\n",
       "      <td>None</td>\n",
       "      <td>None</td>\n",
       "      <td>No</td>\n",
       "      <td>Yes</td>\n",
       "      <td>None</td>\n",
       "      <td>3</td>\n",
       "    </tr>\n",
       "    <tr>\n",
       "      <th>Recycling</th>\n",
       "      <td>10198</td>\n",
       "      <td>None</td>\n",
       "      <td>None</td>\n",
       "      <td>['Glass', 'Metal']</td>\n",
       "      <td>[]</td>\n",
       "      <td>None</td>\n",
       "      <td>2</td>\n",
       "    </tr>\n",
       "    <tr>\n",
       "      <th>Cooking_With</th>\n",
       "      <td>10197</td>\n",
       "      <td>None</td>\n",
       "      <td>None</td>\n",
       "      <td>['Grill', 'Airfryer']</td>\n",
       "      <td>[]</td>\n",
       "      <td>None</td>\n",
       "      <td>3</td>\n",
       "    </tr>\n",
       "    <tr>\n",
       "      <th>CarbonEmission</th>\n",
       "      <td>10200</td>\n",
       "      <td>2266.8304901960782</td>\n",
       "      <td>1016.4527066736371</td>\n",
       "      <td>306</td>\n",
       "      <td>8377</td>\n",
       "      <td>129</td>\n",
       "      <td>0</td>\n",
       "    </tr>\n",
       "  </tbody>\n",
       "</table>\n",
       "</div>"
      ],
      "text/plain": [
       "summary                        count                mean              stddev  \\\n",
       "Body Type                      10100                None                None   \n",
       "Sex                            10200                None                None   \n",
       "Diet                           10196                None                None   \n",
       "How Often Shower               10187                None                None   \n",
       "Heating Energy Source          10200                None                None   \n",
       "Transport                      10189                None                None   \n",
       "Vehicle Type                    3344                None                None   \n",
       "Social Activity                10195                None                None   \n",
       "Monthly Grocery Bill           10200  176.39098039215688   140.2894374654016   \n",
       "Frequency of Traveling by Air  10200                None                None   \n",
       "Vehicle Monthly Distance Km    10195   2072.196076508092   3766.479501354332   \n",
       "Waste Bag Size                 10194                None                None   \n",
       "Waste Bag Weekly Count         10200   4.087941176470588  3.4011774889117534   \n",
       "How Long TV PC Daily Hour      10197  12.160243208786898   7.236695985833119   \n",
       "How Many New Clothes Monthly   10195  25.071015203531143  14.708262927063515   \n",
       "How Long Internet Daily Hour   10197   11.94920074531725   7.484505283554303   \n",
       "Energy efficiency              10197                None                None   \n",
       "Recycling                      10198                None                None   \n",
       "Cooking_With                   10197                None                None   \n",
       "CarbonEmission                 10200  2266.8304901960782  1016.4527066736371   \n",
       "\n",
       "summary                                          min              max  \\\n",
       "Body Type                                        fat         very fat   \n",
       "Sex                                                f             male   \n",
       "Diet                                        omnivore       vegetarian   \n",
       "How Often Shower                               daily      twice a day   \n",
       "Heating Energy Source                           coal             wood   \n",
       "Transport                                    private     walk/bicycle   \n",
       "Vehicle Type                                  diesel           petrol   \n",
       "Social Activity                                never        sometimes   \n",
       "Monthly Grocery Bill                               1             8000   \n",
       "Frequency of Traveling by Air             frequently  very frequently   \n",
       "Vehicle Monthly Distance Km                        0           242356   \n",
       "Waste Bag Size                           extra large            small   \n",
       "Waste Bag Weekly Count                             1              233   \n",
       "How Long TV PC Daily Hour                          0               97   \n",
       "How Many New Clothes Monthly                       0               50   \n",
       "How Long Internet Daily Hour                       0               95   \n",
       "Energy efficiency                                 No              Yes   \n",
       "Recycling                         ['Glass', 'Metal']               []   \n",
       "Cooking_With                   ['Grill', 'Airfryer']               []   \n",
       "CarbonEmission                                   306             8377   \n",
       "\n",
       "summary                       outlier_count  null_count  \n",
       "Body Type                              None         100  \n",
       "Sex                                    None           0  \n",
       "Diet                                   None           4  \n",
       "How Often Shower                       None          13  \n",
       "Heating Energy Source                  None           0  \n",
       "Transport                              None          11  \n",
       "Vehicle Type                           None        6856  \n",
       "Social Activity                        None           5  \n",
       "Monthly Grocery Bill                      6           0  \n",
       "Frequency of Traveling by Air          None           0  \n",
       "Vehicle Monthly Distance Km               3           5  \n",
       "Waste Bag Size                         None           6  \n",
       "Waste Bag Weekly Count                   14           0  \n",
       "How Long TV PC Daily Hour                 6           3  \n",
       "How Many New Clothes Monthly              0           5  \n",
       "How Long Internet Daily Hour              8           3  \n",
       "Energy efficiency                      None           3  \n",
       "Recycling                              None           2  \n",
       "Cooking_With                           None           3  \n",
       "CarbonEmission                          129           0  "
      ]
     },
     "execution_count": 6,
     "metadata": {},
     "output_type": "execute_result"
    }
   ],
   "source": [
    "info_table = describe_dataframe_details(spark=spark, df=df)\n",
    "info_table"
   ]
  },
  {
   "cell_type": "code",
   "execution_count": 7,
   "id": "958e509440dc1263",
   "metadata": {
    "ExecuteTime": {
     "end_time": "2024-05-21T00:17:43.944467Z",
     "start_time": "2024-05-21T00:17:43.764031Z"
    }
   },
   "outputs": [],
   "source": [
    "df = rename_columns(df=df)"
   ]
  },
  {
   "cell_type": "code",
   "execution_count": 15,
   "id": "c165a5fb320964ce",
   "metadata": {
    "ExecuteTime": {
     "end_time": "2024-05-21T00:24:06.590792Z",
     "start_time": "2024-05-21T00:24:06.544870Z"
    }
   },
   "outputs": [],
   "source": [
    "# Drop all Null value from pyspark dataframe\n",
    "df = df.na.drop()"
   ]
  },
  {
   "cell_type": "code",
   "execution_count": 27,
   "id": "a5b5a9dcda247048",
   "metadata": {
    "ExecuteTime": {
     "end_time": "2024-05-21T00:38:25.037105Z",
     "start_time": "2024-05-21T00:38:25.033004Z"
    }
   },
   "outputs": [],
   "source": [
    "import matplotlib.pyplot as plt\n",
    "from pyspark.sql.functions import sum"
   ]
  },
  {
   "cell_type": "code",
   "execution_count": 28,
   "id": "64a2f42a3be55579",
   "metadata": {
    "ExecuteTime": {
     "end_time": "2024-05-21T00:38:27.561221Z",
     "start_time": "2024-05-21T00:38:25.230860Z"
    }
   },
   "outputs": [
    {
     "data": {
      "image/png": "[encoded data removed]",
      "text/plain": [
       "<Figure size 432x288 with 1 Axes>"
      ]
     },
     "metadata": {
      "needs_background": "light"
     },
     "output_type": "display_data"
    }
   ],
   "source": [
    "\n",
    "\n",
    "# Calculate the sum of carbon_emission for each body_type\n",
    "df_grouped = df.groupBy('body_type').agg(sum('carbon_emission').alias('sum_carbon_emission'))\n",
    "\n",
    "# Create a DataFrame with distinct body_type values and their corresponding sum of carbon_emission\n",
    "df_distinct = df_grouped.select('body_type').distinct() \\\n",
    "    .join(df_grouped, on='body_type', how='left') \\\n",
    "    .na.fill(0)\n",
    "\n",
    "# Plot the results\n",
    "import matplotlib.pyplot as plt\n",
    "\n",
    "x_values = df_distinct.select('body_type').rdd.flatMap(lambda x: x).collect()\n",
    "y_values = df_distinct.select('sum_carbon_emission').rdd.flatMap(lambda x: x).collect()\n",
    "\n",
    "plt.bar(x_values, y_values)\n",
    "plt.ylabel('sum_carbon_emission')\n",
    "plt.xlabel('body_type')\n",
    "plt.title('body_type and sum_carbon_emission plot')\n",
    "plt.show()"
   ]
  },
  {
   "cell_type": "code",
   "execution_count": null,
   "id": "d9da6d5800294463",
   "metadata": {
    "ExecuteTime": {
     "end_time": "2024-05-21T00:17:46.761482Z",
     "start_time": "2024-05-21T00:17:46.760250Z"
    }
   },
   "outputs": [],
   "source": []
  }
 ],
 "metadata": {
  "kernelspec": {
   "display_name": "Python 3",
   "language": "python",
   "name": "python3"
  },
  "language_info": {
   "codemirror_mode": {
    "name": "ipython",
    "version": 2
   },
   "file_extension": ".py",
   "mimetype": "text/x-python",
   "name": "python",
   "nbconvert_exporter": "python",
   "pygments_lexer": "ipython2",
   "version": "2.7.6"
  }
 },
 "nbformat": 4,
 "nbformat_minor": 5
}
