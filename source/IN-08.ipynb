{
 "cells": [
  {
   "cell_type": "code",
   "execution_count": null,
   "id": "3658d72a3c619f5d",
   "metadata": {},
   "outputs": [],
   "source": [
    "from pyspark.ml import Pipeline\n",
    "from pyspark.ml.evaluation import RegressionEvaluator\n",
    "from pyspark.ml.feature import UnivariateFeatureSelector\n",
    "from pyspark.ml.regression import LinearRegression\n",
    "from pyspark.ml.tuning import CrossValidator, ParamGridBuilder"
   ]
  },
  {
   "cell_type": "code",
   "execution_count": null,
   "id": "initial_id",
   "metadata": {
    "collapsed": true
   },
   "outputs": [],
   "source": [
    "selector = UnivariateFeatureSelector(\n",
    "    featuresCol=\"temp_features\",\n",
    "    outputCol=\"features\",\n",
    ")\n",
    "selector.setFeatureType(\"continuous\").setLabelType(\"continuous\").setSelectionThreshold(\n",
    "    5\n",
    ")\n",
    "\n",
    "linear_model = LinearRegression()\n",
    "linear_model.setRegParam(0.1)\n",
    "pipeline = Pipeline(stages=[selector, linear_model])\n",
    "paramGrid = (\n",
    "    ParamGridBuilder()\n",
    "    .addGrid(\n",
    "        selector.selectionThreshold, [i for i in range(15, len(feature_columns) + 1)]\n",
    "    )\n",
    "    .addGrid(linear_model.regParam, [0.1])\n",
    "    .addGrid(linear_model.solver, [\"normal\"])\n",
    "    .build()\n",
    ")\n",
    "crossval = CrossValidator(\n",
    "    estimator=pipeline,\n",
    "    estimatorParamMaps=paramGrid,\n",
    "    evaluator=RegressionEvaluator(),\n",
    "    numFolds=2,\n",
    ")\n",
    "cv_model = crossval.fit(df_assembler)"
   ]
  }
 ],
 "metadata": {
  "kernelspec": {
   "display_name": "Python 3",
   "language": "python",
   "name": "python3"
  },
  "language_info": {
   "codemirror_mode": {
    "name": "ipython",
    "version": 2
   },
   "file_extension": ".py",
   "mimetype": "text/x-python",
   "name": "python",
   "nbconvert_exporter": "python",
   "pygments_lexer": "ipython2",
   "version": "2.7.6"
  }
 },
 "nbformat": 4,
 "nbformat_minor": 5
}
